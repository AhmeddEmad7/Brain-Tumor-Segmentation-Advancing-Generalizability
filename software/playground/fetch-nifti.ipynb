{
 "cells": [
  {
   "cell_type": "code",
   "execution_count": 61,
   "metadata": {},
   "outputs": [],
   "source": [
    "import nibabel as nib\n",
    "import numpy as np\n",
    "import requests\n",
    "import os\n",
    "import re"
   ]
  },
  {
   "cell_type": "code",
   "execution_count": 62,
   "metadata": {},
   "outputs": [],
   "source": [
    "def remove_invalid_chars(filename, replacement=''):\n",
    "     \n",
    "    invalid_chars_pattern = r'[\\/:*?\"<>|]'\n",
    "    \n",
    "    # Replace invalid characters with the specified replacement character\n",
    "    new_filename = re.sub(invalid_chars_pattern, replacement, filename)\n",
    "    \n",
    "    return new_filename"
   ]
  },
  {
   "cell_type": "code",
   "execution_count": 63,
   "metadata": {},
   "outputs": [],
   "source": [
    "def fetch_study_as_nifti(server_url, study_orthanc_id):\n",
    "    \n",
    "    # DICOM Web URL for fetching study\n",
    "    study_url = f\"{server_url}/studies/{study_orthanc_id}\"\n",
    "\n",
    "    # Send GET request to fetch series\n",
    "    response = requests.get(study_url)\n",
    "    \n",
    "    # Check if request was successful\n",
    "    if response.status_code == 200:\n",
    "        study_data = response.json()\n",
    "                \n",
    "        series_count = len(study_data[\"Series\"])\n",
    "\n",
    "        print(f\"Found {series_count} series in study {study_orthanc_id}\")\n",
    "        \n",
    "        # Create directory to save DICOM files\n",
    "        study_dir = study_data[\"MainDicomTags\"][\"StudyInstanceUID\"]\n",
    "        os.makedirs(str(study_dir), exist_ok=True)\n",
    "                \n",
    "        # Iterate through series and fetch instances\n",
    "        for series_orthanc_id in study_data[\"Series\"]:\n",
    "            print(f\"Fetching series {series_orthanc_id}\")\n",
    "            fetch_nifti_series_from_orthanc(server_url, series_orthanc_id, study_dir)\n",
    "    else:\n",
    "        print(\"Failed to fetch study.\")\n",
    "        print(f\"Status Code: {response.status_code}\")\n",
    "        print(response.text)"
   ]
  },
  {
   "cell_type": "code",
   "execution_count": 64,
   "metadata": {},
   "outputs": [],
   "source": [
    "def fetch_nifti_series_from_orthanc(server_url, series_orthanc_id, save_dir):\n",
    "    \n",
    "    series_url = f\"{server_url}/series/{series_orthanc_id}\"\n",
    "    # Send GET request to fetch DICOM instance\n",
    "    data = requests.get(series_url)\n",
    "    response = requests.get(series_url + \"/nifti?compress\")\n",
    "    \n",
    "    series_description = data.json()[\"MainDicomTags\"][\"SeriesDescription\"] if \"SeriesDescription\" in data.json()[\"MainDicomTags\"] else \"unknown\"\n",
    "    series_description = remove_invalid_chars(series_description)\n",
    "\n",
    "    # Check if request was successful\n",
    "    if response.status_code == 200:\n",
    "        # Save DICOM file\n",
    "        with open(os.path.join(save_dir, str(series_description + \".nii.gz\")), 'wb') as f:\n",
    "            f.write(response.content)\n",
    "        print(f\"Saved nifti series {series_orthanc_id}\")\n",
    "    else:\n",
    "        print(\"Failed to fetch DICOM instance.\")\n",
    "        print(f\"Status Code: {response.status_code}\")\n",
    "        print(response.text)"
   ]
  },
  {
   "cell_type": "code",
   "execution_count": 65,
   "metadata": {},
   "outputs": [
    {
     "name": "stdout",
     "output_type": "stream",
     "text": [
      "Found 6 series in study 2c9a0594-c963ae88-94ddbbcf-88b1bb47-be7d812b\n",
      "Fetching series 7e4e2a42-4aa60232-dc740434-a1702956-852fd45c\n"
     ]
    },
    {
     "name": "stdout",
     "output_type": "stream",
     "text": [
      "Saved nifti series 7e4e2a42-4aa60232-dc740434-a1702956-852fd45c\n",
      "Fetching series 221fb4a3-1c708d50-b99c15cb-a76e5611-0e0d7822\n",
      "Saved nifti series 221fb4a3-1c708d50-b99c15cb-a76e5611-0e0d7822\n",
      "Fetching series d3acbdfd-09cb4e8f-6bba59cf-ca28a8f5-430e73dd\n",
      "Saved nifti series d3acbdfd-09cb4e8f-6bba59cf-ca28a8f5-430e73dd\n",
      "Fetching series 076467ec-fec949b4-8046d2a6-f497b296-e2233406\n",
      "Saved nifti series 076467ec-fec949b4-8046d2a6-f497b296-e2233406\n",
      "Fetching series c89e8b65-cda87f20-633bef75-9c147dd3-e15b5b54\n",
      "Saved nifti series c89e8b65-cda87f20-633bef75-9c147dd3-e15b5b54\n",
      "Fetching series f33edafe-49c2417e-93c83283-9bddc4df-35d13074\n",
      "Saved nifti series f33edafe-49c2417e-93c83283-9bddc4df-35d13074\n"
     ]
    }
   ],
   "source": [
    "server_url = \"http://localhost:8042\"\n",
    "study = \"2c9a0594-c963ae88-94ddbbcf-88b1bb47-be7d812b\"\n",
    "\n",
    "fetch_study_as_nifti(server_url, study)"
   ]
  },
  {
   "cell_type": "code",
   "execution_count": null,
   "metadata": {},
   "outputs": [],
   "source": []
  }
 ],
 "metadata": {
  "kernelspec": {
   "display_name": "venv",
   "language": "python",
   "name": "python3"
  },
  "language_info": {
   "codemirror_mode": {
    "name": "ipython",
    "version": 3
   },
   "file_extension": ".py",
   "mimetype": "text/x-python",
   "name": "python",
   "nbconvert_exporter": "python",
   "pygments_lexer": "ipython3",
   "version": "3.11.4"
  }
 },
 "nbformat": 4,
 "nbformat_minor": 2
}
