{
 "cells": [
  {
   "cell_type": "code",
   "execution_count": 6,
   "metadata": {},
   "outputs": [],
   "source": [
    "import pydicom\n",
    "import os\n"
   ]
  },
  {
   "cell_type": "code",
   "execution_count": 7,
   "metadata": {},
   "outputs": [],
   "source": [
    "def analyze_orientation(image_orientation):\n",
    "    # Simplified logic to determine orientation based on ImageOrientationPatient\n",
    "    # You may need more sophisticated logic depending on your data\n",
    "    if image_orientation is not None:\n",
    "        if image_orientation[0] == 1 and image_orientation[1] == 0:\n",
    "            return \"Sagittal\"\n",
    "        elif image_orientation[0] == 0 and image_orientation[1] == 1:\n",
    "            return \"Coronal\"\n",
    "        else:\n",
    "            return \"Axial\"\n",
    "    else:\n",
    "        return None"
   ]
  },
  {
   "cell_type": "code",
   "execution_count": 8,
   "metadata": {},
   "outputs": [],
   "source": [
    "def identify_weighting(sequence_name, image_type):\n",
    "    # Simplified logic to identify MRI weighting based on SequenceName and ImageType\n",
    "    if sequence_name and image_type:\n",
    "        sequence_name_lower = sequence_name.lower()\n",
    "        image_type_lower = [type.lower() for type in image_type]\n",
    "        if \"t1\" in sequence_name_lower or \"t1\" in image_type_lower:\n",
    "            return \"T1-weighted\"\n",
    "        elif \"t2\" in sequence_name_lower or \"t2\" in image_type_lower:\n",
    "            return \"T2-weighted\"\n",
    "        elif \"flair\" in sequence_name_lower or \"flair\" in image_type_lower:\n",
    "            return \"FLAIR-weighted\"\n",
    "        elif \"pd\" in sequence_name_lower or \"pd\" in image_type_lower:\n",
    "            return \"PD-weighted\"\n",
    "        elif \"t1c\" in sequence_name_lower or \"t1c\" in image_type_lower:\n",
    "            return \"T1c-weighted\"\n",
    "        else:\n",
    "            return \"Unknown\"\n",
    "    else:\n",
    "        return None"
   ]
  },
  {
   "cell_type": "code",
   "execution_count": 9,
   "metadata": {},
   "outputs": [],
   "source": [
    "def read_dicom_header(dicom_file):\n",
    "    # Read DICOM header information from the file\n",
    "    header_info = {}\n",
    "    try:\n",
    "        dicom_data = pydicom.dcmread(dicom_file, force=True)\n",
    "        header_info['ImageOrientationPatient'] = dicom_data.get('ImageOrientationPatient', None)\n",
    "        header_info['SequenceName'] = dicom_data.get('SequenceName', None)\n",
    "        header_info['ImageType'] = dicom_data.get('ImageType', None)\n",
    "    except Exception as e:\n",
    "        log(\"Error reading DICOM header:\", str(e))\n",
    "    return header_info\n"
   ]
  },
  {
   "cell_type": "code",
   "execution_count": 10,
   "metadata": {},
   "outputs": [],
   "source": [
    "def output(orientation, weighting):\n",
    "    # Output the detected orientation and weighting\n",
    "    print(\"Detected orientation:\", orientation, \"Weighting:\", weighting)"
   ]
  },
  {
   "cell_type": "code",
   "execution_count": 11,
   "metadata": {},
   "outputs": [],
   "source": [
    "def log(message, dicom_file):\n",
    "    # Log messages for DICOM files where weighting could not be determined\n",
    "    print(\"Warning:\", message, dicom_file)"
   ]
  },
  {
   "cell_type": "code",
   "execution_count": 14,
   "metadata": {},
   "outputs": [],
   "source": [
    "# write a function that opens the first dicom file in each series and returns the orientation and weighting\n",
    "def get_orientation_and_weighting(study_folder_path):\n",
    "    \n",
    "    # Get the orientation and weighting for the first DICOM file in each series\n",
    "    # You may need to adjust this logic depending on your data\n",
    "    for root, dirs, files in os.walk(study_folder_path):\n",
    "        for dir in dirs:\n",
    "            series_path = os.path.join(root, dir)\n",
    "            for file in os.listdir(series_path):\n",
    "                # print the first file in the series\n",
    "                dicom_file = os.path.join(series_path, file)\n",
    "                print(dicom_file)\n",
    "                break           \n",
    "    "
   ]
  },
  {
   "cell_type": "code",
   "execution_count": 15,
   "metadata": {},
   "outputs": [
    {
     "name": "stdout",
     "output_type": "stream",
     "text": [
      "1.2.840.4892943.343.20220204232928.585770\\1.2.840.113619.2.312.6945.3553526.11449.1643962392.769\\1.2.840.113619.2.312.6945.3553526.10936.1643963000.372.dcm\n",
      "1.2.840.4892943.343.20220204232928.585770\\1.2.840.113619.2.312.6945.3553526.11449.1643962392.770\\1.2.840.113619.2.312.6945.3553526.10936.1643963000.581.dcm\n",
      "1.2.840.4892943.343.20220204232928.585770\\1.2.840.113619.2.312.6945.3553526.11449.1643962392.771\\1.2.840.113619.2.312.6945.3553526.10936.1643963000.731.dcm\n",
      "1.2.840.4892943.343.20220204232928.585770\\1.2.840.113619.2.312.6945.3553526.11449.1643962392.772\\1.2.840.113619.2.312.6945.3553526.10936.1643963000.881.dcm\n",
      "1.2.840.4892943.343.20220204232928.585770\\1.2.840.113619.2.312.6945.3553526.11449.1643962392.773\\1.2.840.113619.2.312.6945.3553526.10936.1643963001.31.dcm\n",
      "1.2.840.4892943.343.20220204232928.585770\\1.2.840.113619.2.312.6945.3553526.11449.1643962392.774\\1.2.840.113619.2.312.6945.3553526.10936.1643963001.181.dcm\n"
     ]
    }
   ],
   "source": [
    "get_orientation_and_weighting(\"1.2.840.4892943.343.20220204232928.585770\")"
   ]
  },
  {
   "cell_type": "code",
   "execution_count": null,
   "metadata": {},
   "outputs": [],
   "source": []
  }
 ],
 "metadata": {
  "kernelspec": {
   "display_name": "venv",
   "language": "python",
   "name": "python3"
  },
  "language_info": {
   "codemirror_mode": {
    "name": "ipython",
    "version": 3
   },
   "file_extension": ".py",
   "mimetype": "text/x-python",
   "name": "python",
   "nbconvert_exporter": "python",
   "pygments_lexer": "ipython3",
   "version": "3.11.4"
  }
 },
 "nbformat": 4,
 "nbformat_minor": 2
}
