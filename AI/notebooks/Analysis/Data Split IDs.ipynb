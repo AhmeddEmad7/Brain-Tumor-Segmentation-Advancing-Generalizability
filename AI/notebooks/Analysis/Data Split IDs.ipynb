{
 "cells": [
  {
   "cell_type": "markdown",
   "id": "6ed4d5a1",
   "metadata": {
    "papermill": {
     "duration": 0.006912,
     "end_time": "2025-03-24T11:10:20.701095",
     "exception": false,
     "start_time": "2025-03-24T11:10:20.694183",
     "status": "completed"
    },
    "tags": []
   },
   "source": [
    "# Importing & Loading Dependencies "
   ]
  },
  {
   "cell_type": "code",
   "execution_count": 1,
   "id": "3a82652b",
   "metadata": {
    "execution": {
     "iopub.execute_input": "2025-03-24T11:10:20.714874Z",
     "iopub.status.busy": "2025-03-24T11:10:20.714431Z",
     "iopub.status.idle": "2025-03-24T11:11:30.948138Z",
     "shell.execute_reply": "2025-03-24T11:11:30.946965Z"
    },
    "papermill": {
     "duration": 70.243727,
     "end_time": "2025-03-24T11:11:30.950802",
     "exception": false,
     "start_time": "2025-03-24T11:10:20.707075",
     "status": "completed"
    },
    "tags": []
   },
   "outputs": [
    {
     "name": "stdout",
     "output_type": "stream",
     "text": [
      "Collecting monai\r\n",
      "  Downloading monai-1.4.0-py3-none-any.whl.metadata (11 kB)\r\n",
      "Requirement already satisfied: numpy<2.0,>=1.24 in /opt/conda/lib/python3.10/site-packages (from monai) (1.26.4)\r\n",
      "Requirement already satisfied: torch>=1.9 in /opt/conda/lib/python3.10/site-packages (from monai) (2.4.0+cpu)\r\n",
      "Requirement already satisfied: filelock in /opt/conda/lib/python3.10/site-packages (from torch>=1.9->monai) (3.15.1)\r\n",
      "Requirement already satisfied: typing-extensions>=4.8.0 in /opt/conda/lib/python3.10/site-packages (from torch>=1.9->monai) (4.12.2)\r\n",
      "Requirement already satisfied: sympy in /opt/conda/lib/python3.10/site-packages (from torch>=1.9->monai) (1.12)\r\n",
      "Requirement already satisfied: networkx in /opt/conda/lib/python3.10/site-packages (from torch>=1.9->monai) (3.3)\r\n",
      "Requirement already satisfied: jinja2 in /opt/conda/lib/python3.10/site-packages (from torch>=1.9->monai) (3.1.4)\r\n",
      "Requirement already satisfied: fsspec in /opt/conda/lib/python3.10/site-packages (from torch>=1.9->monai) (2024.6.1)\r\n",
      "Requirement already satisfied: MarkupSafe>=2.0 in /opt/conda/lib/python3.10/site-packages (from jinja2->torch>=1.9->monai) (2.1.5)\r\n",
      "Requirement already satisfied: mpmath>=0.19 in /opt/conda/lib/python3.10/site-packages (from sympy->torch>=1.9->monai) (1.3.0)\r\n",
      "Downloading monai-1.4.0-py3-none-any.whl (1.5 MB)\r\n",
      "\u001b[2K   \u001b[90m━━━━━━━━━━━━━━━━━━━━━━━━━━━━━━━━━━━━━━━━\u001b[0m \u001b[32m1.5/1.5 MB\u001b[0m \u001b[31m17.9 MB/s\u001b[0m eta \u001b[36m0:00:00\u001b[0m\r\n",
      "\u001b[?25hInstalling collected packages: monai\r\n",
      "Successfully installed monai-1.4.0\r\n",
      "Requirement already satisfied: monai[nibabel] in /opt/conda/lib/python3.10/site-packages (1.4.0)\r\n",
      "Requirement already satisfied: numpy<2.0,>=1.24 in /opt/conda/lib/python3.10/site-packages (from monai[nibabel]) (1.26.4)\r\n",
      "Requirement already satisfied: torch>=1.9 in /opt/conda/lib/python3.10/site-packages (from monai[nibabel]) (2.4.0+cpu)\r\n",
      "Requirement already satisfied: nibabel in /opt/conda/lib/python3.10/site-packages (from monai[nibabel]) (5.2.1)\r\n",
      "Requirement already satisfied: filelock in /opt/conda/lib/python3.10/site-packages (from torch>=1.9->monai[nibabel]) (3.15.1)\r\n",
      "Requirement already satisfied: typing-extensions>=4.8.0 in /opt/conda/lib/python3.10/site-packages (from torch>=1.9->monai[nibabel]) (4.12.2)\r\n",
      "Requirement already satisfied: sympy in /opt/conda/lib/python3.10/site-packages (from torch>=1.9->monai[nibabel]) (1.12)\r\n",
      "Requirement already satisfied: networkx in /opt/conda/lib/python3.10/site-packages (from torch>=1.9->monai[nibabel]) (3.3)\r\n",
      "Requirement already satisfied: jinja2 in /opt/conda/lib/python3.10/site-packages (from torch>=1.9->monai[nibabel]) (3.1.4)\r\n",
      "Requirement already satisfied: fsspec in /opt/conda/lib/python3.10/site-packages (from torch>=1.9->monai[nibabel]) (2024.6.1)\r\n",
      "Requirement already satisfied: packaging>=17 in /opt/conda/lib/python3.10/site-packages (from nibabel->monai[nibabel]) (21.3)\r\n",
      "Requirement already satisfied: pyparsing!=3.0.5,>=2.0.2 in /opt/conda/lib/python3.10/site-packages (from packaging>=17->nibabel->monai[nibabel]) (3.1.2)\r\n",
      "Requirement already satisfied: MarkupSafe>=2.0 in /opt/conda/lib/python3.10/site-packages (from jinja2->torch>=1.9->monai[nibabel]) (2.1.5)\r\n",
      "Requirement already satisfied: mpmath>=0.19 in /opt/conda/lib/python3.10/site-packages (from sympy->torch>=1.9->monai[nibabel]) (1.3.0)\r\n"
     ]
    }
   ],
   "source": [
    "!pip install monai\n",
    "\n",
    "import nibabel as nib\n",
    "from monai.transforms import LoadImage, Compose, NormalizeIntensityd, RandSpatialCropd, RandFlipd, \\\n",
    "                             RandRotate90d, Rand3DElasticd, RandAdjustContrastd, CenterSpatialCropd,\\\n",
    "                             Resized, RandRotated, RandZoomd, RandGaussianNoised, Spacingd, RandShiftIntensityd,  CropForegroundd, SpatialPadd, AsDiscrete, GridPatchd\\\n",
    "\n",
    "import matplotlib.pyplot as plt\n",
    "from torch.utils.data import DataLoader, Dataset\n",
    "import torch.nn as nn\n",
    "import torch\n",
    "import logging\n",
    "import numpy as np\n",
    "import os\n",
    "import random\n",
    "from typing import Optional, Sequence, Tuple, Union\n",
    "import numpy as np\n",
    "import torch\n",
    "import torch.nn as nn\n",
    "import torch.nn.functional as F\n",
    "from torch.nn.functional import interpolate\n",
    "import pdb\n",
    "\n",
    "from monai.networks.blocks.convolutions import Convolution\n",
    "from monai.networks.layers.factories import Act, Norm\n",
    "from monai.networks.layers.utils import get_act_layer, get_norm_layer\n",
    "from monai.networks import one_hot\n",
    "from monai.metrics import DiceMetric, HausdorffDistanceMetric\n",
    "import torchvision\n",
    "import math\n",
    "\n",
    "from grpc import insecure_channel\n",
    "import argparse\n",
    "from torch import optim, amp\n",
    "from monai.losses import DiceLoss\n",
    "import torch.distributed as dist\n",
    "\n",
    "from pathlib import Path\n",
    "import argparse\n",
    "import json\n",
    "import math\n",
    "import os\n",
    "import random\n",
    "import signal\n",
    "import subprocess\n",
    "import sys\n",
    "import time\n",
    "import pdb\n",
    "import logging\n",
    "from ipywidgets import interact, IntSlider\n",
    "\n",
    "from monai.losses import DiceLoss\n",
    "from torch import nn, optim\n",
    "from tqdm import tqdm\n",
    "import torch\n",
    "import torch.distributed as dist\n",
    "import torch.multiprocessing as mp\n",
    "from torch.utils.data import DataLoader\n",
    "from torch.utils.tensorboard import SummaryWriter\n",
    "import torchvision"
   ]
  },
  {
   "cell_type": "markdown",
   "id": "5e7a3bfa",
   "metadata": {
    "papermill": {
     "duration": 0.006451,
     "end_time": "2025-03-24T11:11:30.964369",
     "exception": false,
     "start_time": "2025-03-24T11:11:30.957918",
     "status": "completed"
    },
    "tags": []
   },
   "source": [
    "# Creating Dataset with Preprocessing"
   ]
  },
  {
   "cell_type": "code",
   "execution_count": 2,
   "id": "592e67c7",
   "metadata": {
    "execution": {
     "iopub.execute_input": "2025-03-24T11:11:30.980489Z",
     "iopub.status.busy": "2025-03-24T11:11:30.979741Z",
     "iopub.status.idle": "2025-03-24T11:11:31.000932Z",
     "shell.execute_reply": "2025-03-24T11:11:30.999880Z"
    },
    "papermill": {
     "duration": 0.031738,
     "end_time": "2025-03-24T11:11:31.002940",
     "exception": false,
     "start_time": "2025-03-24T11:11:30.971202",
     "status": "completed"
    },
    "tags": []
   },
   "outputs": [],
   "source": [
    "class CustomDataset3D(Dataset):\n",
    "    def __init__(self, data_dir, patient_lists, mode):\n",
    "        self.data_dir = data_dir\n",
    "        self.patient_lists = patient_lists\n",
    "        self.mode = mode\n",
    "\n",
    "    @staticmethod\n",
    "    def resize_with_aspect_ratio(keys, target_size):\n",
    "        def transform(data):\n",
    "            for key in keys:\n",
    "                volume = data[key]\n",
    "                original_shape = volume.shape[-3:]\n",
    "    \n",
    "                scaling_factor = min(\n",
    "                    target_size[0] / original_shape[0],\n",
    "                    target_size[1] / original_shape[1],\n",
    "                    target_size[2] / original_shape[2]\n",
    "                )\n",
    "    \n",
    "                # Computing the intermediate size while preserving aspect ratio\n",
    "                new_shape = [\n",
    "                    int(dim * scaling_factor) for dim in original_shape\n",
    "                ]\n",
    "    \n",
    "                # Resizing to the intermediate shape\n",
    "                resize_transform = Resized(keys=[key], spatial_size=new_shape, mode=\"trilinear\" if key == \"imgs\" else \"nearest-exact\")\n",
    "                data = resize_transform(data)\n",
    "    \n",
    "                # Padding to the final target size\n",
    "                pad_transform = SpatialPadd(keys=[key], spatial_size=target_size, mode=\"constant\")\n",
    "                data = pad_transform(data)\n",
    "            return data\n",
    "\n",
    "        return transform\n",
    "    \n",
    "    def preprocess(cls, data, mode):\n",
    "        if mode == 'training':\n",
    "          transform = Compose([\n",
    "            CropForegroundd(keys=[\"imgs\", \"masks\"], source_key=\"imgs\"),\n",
    "            cls.resize_with_aspect_ratio(keys=[\"imgs\", \"masks\"], target_size=[128, 128, 128]),\n",
    "            NormalizeIntensityd( keys=['imgs'], nonzero=False, channel_wise=True),\n",
    "              \n",
    "            RandFlipd(keys=[\"imgs\", \"masks\"],   \n",
    "                    prob=0.5,                 \n",
    "                    spatial_axis=2,  \n",
    "            ),\n",
    "\n",
    "            RandAdjustContrastd(\n",
    "                keys=[\"imgs\"],          \n",
    "                prob=0.15,             \n",
    "                gamma=(0.65, 1.5),   \n",
    "            ),\n",
    "            \n",
    "        ])\n",
    "\n",
    "        elif mode == 'validation':\n",
    "          transform = Compose([\n",
    "            CropForegroundd(keys=[\"imgs\", \"masks\"], source_key=\"imgs\"),\n",
    "            cls.resize_with_aspect_ratio(keys=[\"imgs\", \"masks\"], target_size=[128, 128, 128]),\n",
    "            NormalizeIntensityd( keys=['imgs'], nonzero=False, channel_wise=True)\n",
    "\n",
    "        ])\n",
    "\n",
    "        else: # 'testing'\n",
    "          transform = Compose([\n",
    "            CropForegroundd(keys=[\"imgs\", \"masks\"], source_key=\"imgs\"),\n",
    "            cls.resize_with_aspect_ratio(keys=[\"imgs\", \"masks\"], target_size=[128, 128, 128]),\n",
    "            NormalizeIntensityd( keys=['imgs'], nonzero=False, channel_wise=True)\n",
    "\n",
    "        ])\n",
    "\n",
    "        augmented_data = transform(data)\n",
    "        return augmented_data\n",
    "\n",
    "    def __len__(self):\n",
    "        return len(self.patient_lists)\n",
    "\n",
    "    def __getitem__(self, idx):\n",
    "        patient_id = self.patient_lists[idx]\n",
    "        loadimage = LoadImage(reader='NibabelReader', image_only=True)\n",
    "\n",
    "        patient_folder_path = os.path.join(self.data_dir, patient_id)\n",
    "\n",
    "        def resolve_file_path(folder, name):\n",
    "            file_path = os.path.join(folder, name)\n",
    "            # Check if the given path is a directory (case with 4 subdirs)\n",
    "            if os.path.isdir(file_path):\n",
    "                # Find the first file inside the directory that ends with .nii\n",
    "                for root, _, files in os.walk(file_path):\n",
    "                    for file in files:\n",
    "                        if file.endswith(\".nii\"):\n",
    "                            return os.path.join(root, file)\n",
    "            return file_path\n",
    "\n",
    "\n",
    "        # Resolve paths for all required image types\n",
    "        t1c_path  = resolve_file_path(patient_folder_path, patient_id + '-t1c.nii')\n",
    "        t1n_path  = resolve_file_path(patient_folder_path, patient_id + '-t1n.nii')\n",
    "        t2f_path  = resolve_file_path(patient_folder_path, patient_id + '-t2f.nii')\n",
    "        t2w_path  = resolve_file_path(patient_folder_path, patient_id + '-t2w.nii')\n",
    "        seg_path  = os.path.join(patient_folder_path, patient_id + '-seg.nii')\n",
    "\n",
    "        t1c_loader   = loadimage( t1c_path )\n",
    "        t1n_loader   = loadimage( t1n_path )\n",
    "        t2f_loader   = loadimage( t2f_path )\n",
    "        t2w_loader   = loadimage( t2w_path )\n",
    "        masks_loader = loadimage( seg_path )\n",
    "\n",
    "        # Make the dimension of channel\n",
    "        t1c_tensor   = torch.Tensor(t1c_loader).unsqueeze(0)\n",
    "        t1n_tensor   = torch.Tensor(t1n_loader).unsqueeze(0)\n",
    "        t2f_tensor   = torch.Tensor(t2f_loader).unsqueeze(0)\n",
    "        t2w_tensor   = torch.Tensor(t2w_loader).unsqueeze(0)\n",
    "        masks_tensor = torch.Tensor(masks_loader).unsqueeze(0)\n",
    "\n",
    "        # dividing the mask to each class\n",
    "        '''\n",
    "        Output channel\n",
    "        [1, 0, 0, 0] = BackGround (BG)\n",
    "        [0, 1, 0, 0] = Necrosis (NE)\n",
    "        [0, 0, 1, 0] = Edema (ED)\n",
    "        [0, 0, 0, 1] = Enhancing Tumor (ET)\n",
    "        \n",
    "        '''\n",
    "\n",
    "        # x = torch.ones( masks_tensor.size() )\n",
    "        # y = torch.zeros( masks_tensor.size() )\n",
    "\n",
    "        # masks_BG = torch.where( masks_tensor == 0, x, y )\n",
    "        # masks_NE = torch.where( masks_tensor == 1, x, y )\n",
    "        # masks_ED = torch.where( masks_tensor == 2, x, y )\n",
    "        # masks_ET = torch.where( masks_tensor == 3, x, y )\n",
    "\n",
    "        concat_tensor = torch.cat( (t1c_tensor, t1n_tensor, t2f_tensor, t2w_tensor, masks_tensor), 0 )\n",
    "\n",
    "        data = {\n",
    "            \n",
    "            'imgs'  : np.array(concat_tensor[0:4,:,:,:]),\n",
    "            'masks' : np.array(concat_tensor[4:,:,:,:])\n",
    "\n",
    "        }\n",
    "\n",
    "\n",
    "        augmented_imgs_masks = self.preprocess(data, self.mode)\n",
    "        imgs  = np.array(augmented_imgs_masks['imgs'])\n",
    "        masks = np.array(augmented_imgs_masks['masks'])\n",
    "\n",
    "        y = {\n",
    "\n",
    "            'imgs'  : torch.from_numpy(imgs).type(torch.FloatTensor),\n",
    "            'masks' : torch.from_numpy(masks).type(torch.FloatTensor),\n",
    "            'patient_id' : patient_id\n",
    "\n",
    "        }\n",
    "\n",
    "        return y"
   ]
  },
  {
   "cell_type": "markdown",
   "id": "4b739141",
   "metadata": {
    "papermill": {
     "duration": 0.00666,
     "end_time": "2025-03-24T11:11:31.017426",
     "exception": false,
     "start_time": "2025-03-24T11:11:31.010766",
     "status": "completed"
    },
    "tags": []
   },
   "source": [
    "# Data Loaders"
   ]
  },
  {
   "cell_type": "code",
   "execution_count": 3,
   "id": "63b3ed9d",
   "metadata": {
    "execution": {
     "iopub.execute_input": "2025-03-24T11:11:31.032879Z",
     "iopub.status.busy": "2025-03-24T11:11:31.032281Z",
     "iopub.status.idle": "2025-03-24T11:11:31.041881Z",
     "shell.execute_reply": "2025-03-24T11:11:31.040822Z"
    },
    "papermill": {
     "duration": 0.019571,
     "end_time": "2025-03-24T11:11:31.043813",
     "exception": false,
     "start_time": "2025-03-24T11:11:31.024242",
     "status": "completed"
    },
    "tags": []
   },
   "outputs": [],
   "source": [
    "def prepare_data_loaders(args):\n",
    "    random.seed(5)\n",
    "    split_ratio = {'training': 0.7, 'validation': 0.1, 'testing': 0.2}\n",
    "    data_dir = args['data_dir']\n",
    "    \n",
    "    patient_lists = os.listdir( data_dir )\n",
    "    patient_lists.sort()\n",
    "    total_patients = len(patient_lists)\n",
    "    \n",
    "    # Shuffle the patient list\n",
    "    random.shuffle(patient_lists)\n",
    "    \n",
    "    train_split = int(split_ratio['training'] * total_patients)\n",
    "    val_split = int(split_ratio['validation'] * total_patients)\n",
    "    \n",
    "    train_patient_lists = patient_lists[:train_split]\n",
    "    val_patient_lists = patient_lists[train_split : train_split + val_split]\n",
    "    test_patient_lists = patient_lists[train_split + val_split :]\n",
    "    \n",
    "    train_patient_lists.sort()\n",
    "    val_patient_lists.sort()\n",
    "    test_patient_lists.sort()\n",
    "\n",
    "    print('Train', train_patient_lists)\n",
    "    print('Val', val_patient_lists)\n",
    "    print('Tsting', test_patient_lists)\n",
    "    \n",
    "    print(f'Number of training samples', len(train_patient_lists))\n",
    "    print(f'Number of validation samples', len(val_patient_lists))\n",
    "    print(f'Number of testing samples', len(test_patient_lists))\n",
    "\n",
    "    trainDataset = CustomDataset3D( data_dir, train_patient_lists, mode='training')\n",
    "    valDataset   = CustomDataset3D( data_dir, val_patient_lists, mode='validation')\n",
    "    testDataset  = CustomDataset3D( data_dir, test_patient_lists, mode='testing')\n",
    "    \n",
    "    trainLoader = DataLoader(\n",
    "        trainDataset, batch_size=args['train_batch_size'], num_workers=args['workers'], prefetch_factor=2,\n",
    "        pin_memory=True, shuffle=True)\n",
    "    \n",
    "    valLoader = DataLoader(\n",
    "        valDataset, batch_size=args['val_batch_size'], num_workers=args['workers'], prefetch_factor=2,\n",
    "        pin_memory=True, shuffle=False)\n",
    "    \n",
    "    testLoader = DataLoader(\n",
    "        testDataset, batch_size=args['test_batch_size'], num_workers=args['workers'], prefetch_factor=2,\n",
    "        pin_memory=True, shuffle=False)\n",
    "\n",
    "    return trainLoader, valLoader, testLoader"
   ]
  },
  {
   "cell_type": "markdown",
   "id": "7b5fe836",
   "metadata": {},
   "source": [
    "## Glioma Data Split"
   ]
  },
  {
   "cell_type": "code",
   "execution_count": 14,
   "id": "d9cf8bfa",
   "metadata": {
    "execution": {
     "iopub.execute_input": "2025-03-24T11:11:31.409229Z",
     "iopub.status.busy": "2025-03-24T11:11:31.408838Z",
     "iopub.status.idle": "2025-03-24T11:11:31.500509Z",
     "shell.execute_reply": "2025-03-24T11:11:31.499411Z"
    },
    "papermill": {
     "duration": 0.102124,
     "end_time": "2025-03-24T11:11:31.503142",
     "exception": false,
     "start_time": "2025-03-24T11:11:31.401018",
     "status": "completed"
    },
    "tags": []
   },
   "outputs": [
    {
     "name": "stdout",
     "output_type": "stream",
     "text": [
      "Train ['BraTS-GLI-00002-000', 'BraTS-GLI-00003-000', 'BraTS-GLI-00006-000', 'BraTS-GLI-00008-000', 'BraTS-GLI-00009-000', 'BraTS-GLI-00009-001', 'BraTS-GLI-00011-000', 'BraTS-GLI-00014-000', 'BraTS-GLI-00014-001', 'BraTS-GLI-00016-001', 'BraTS-GLI-00017-000', 'BraTS-GLI-00018-000', 'BraTS-GLI-00020-000', 'BraTS-GLI-00021-000', 'BraTS-GLI-00021-001', 'BraTS-GLI-00024-000', 'BraTS-GLI-00025-000', 'BraTS-GLI-00026-000', 'BraTS-GLI-00028-000', 'BraTS-GLI-00030-000', 'BraTS-GLI-00031-000', 'BraTS-GLI-00031-001', 'BraTS-GLI-00032-000', 'BraTS-GLI-00032-001', 'BraTS-GLI-00033-000', 'BraTS-GLI-00036-001', 'BraTS-GLI-00043-000', 'BraTS-GLI-00045-000', 'BraTS-GLI-00045-001', 'BraTS-GLI-00046-000', 'BraTS-GLI-00048-001', 'BraTS-GLI-00051-000', 'BraTS-GLI-00052-000', 'BraTS-GLI-00053-000', 'BraTS-GLI-00053-001', 'BraTS-GLI-00054-000', 'BraTS-GLI-00056-000', 'BraTS-GLI-00056-001', 'BraTS-GLI-00058-000', 'BraTS-GLI-00058-001', 'BraTS-GLI-00059-001', 'BraTS-GLI-00060-000', 'BraTS-GLI-00061-001', 'BraTS-GLI-00062-000', 'BraTS-GLI-00063-000', 'BraTS-GLI-00064-000', 'BraTS-GLI-00066-000', 'BraTS-GLI-00070-000', 'BraTS-GLI-00072-000', 'BraTS-GLI-00072-001', 'BraTS-GLI-00077-000', 'BraTS-GLI-00078-000', 'BraTS-GLI-00084-000', 'BraTS-GLI-00085-000', 'BraTS-GLI-00087-000', 'BraTS-GLI-00087-001', 'BraTS-GLI-00088-000', 'BraTS-GLI-00088-001', 'BraTS-GLI-00089-000', 'BraTS-GLI-00090-000', 'BraTS-GLI-00090-001', 'BraTS-GLI-00094-000', 'BraTS-GLI-00095-001', 'BraTS-GLI-00096-000', 'BraTS-GLI-00096-001', 'BraTS-GLI-00097-000', 'BraTS-GLI-00097-001', 'BraTS-GLI-00098-000', 'BraTS-GLI-00098-001', 'BraTS-GLI-00099-001', 'BraTS-GLI-00101-000', 'BraTS-GLI-00103-000', 'BraTS-GLI-00105-000', 'BraTS-GLI-00106-000', 'BraTS-GLI-00107-000', 'BraTS-GLI-00108-000', 'BraTS-GLI-00109-000', 'BraTS-GLI-00110-000', 'BraTS-GLI-00112-000', 'BraTS-GLI-00113-000', 'BraTS-GLI-00115-000', 'BraTS-GLI-00117-000', 'BraTS-GLI-00118-000', 'BraTS-GLI-00120-000', 'BraTS-GLI-00122-000', 'BraTS-GLI-00126-000', 'BraTS-GLI-00127-000', 'BraTS-GLI-00131-000', 'BraTS-GLI-00132-000', 'BraTS-GLI-00134-000', 'BraTS-GLI-00136-000', 'BraTS-GLI-00137-000', 'BraTS-GLI-00138-000', 'BraTS-GLI-00140-000', 'BraTS-GLI-00142-000', 'BraTS-GLI-00146-000', 'BraTS-GLI-00149-000', 'BraTS-GLI-00150-000', 'BraTS-GLI-00152-000', 'BraTS-GLI-00154-000', 'BraTS-GLI-00155-000', 'BraTS-GLI-00156-000', 'BraTS-GLI-00162-000', 'BraTS-GLI-00165-000', 'BraTS-GLI-00166-000', 'BraTS-GLI-00167-000', 'BraTS-GLI-00170-000', 'BraTS-GLI-00171-000', 'BraTS-GLI-00172-000', 'BraTS-GLI-00176-000', 'BraTS-GLI-00177-000', 'BraTS-GLI-00178-000', 'BraTS-GLI-00184-000', 'BraTS-GLI-00188-000', 'BraTS-GLI-00191-000', 'BraTS-GLI-00193-000', 'BraTS-GLI-00194-000', 'BraTS-GLI-00195-000', 'BraTS-GLI-00196-000', 'BraTS-GLI-00199-000', 'BraTS-GLI-00201-000', 'BraTS-GLI-00203-000', 'BraTS-GLI-00204-000', 'BraTS-GLI-00206-000', 'BraTS-GLI-00207-000', 'BraTS-GLI-00209-000', 'BraTS-GLI-00210-000', 'BraTS-GLI-00211-000', 'BraTS-GLI-00212-000', 'BraTS-GLI-00214-000', 'BraTS-GLI-00216-000', 'BraTS-GLI-00218-000', 'BraTS-GLI-00219-000', 'BraTS-GLI-00220-000', 'BraTS-GLI-00222-000', 'BraTS-GLI-00228-000', 'BraTS-GLI-00230-000', 'BraTS-GLI-00231-000', 'BraTS-GLI-00233-000', 'BraTS-GLI-00234-000', 'BraTS-GLI-00235-000', 'BraTS-GLI-00236-000', 'BraTS-GLI-00237-000', 'BraTS-GLI-00238-000', 'BraTS-GLI-00239-000', 'BraTS-GLI-00240-000', 'BraTS-GLI-00241-000', 'BraTS-GLI-00242-000', 'BraTS-GLI-00243-000', 'BraTS-GLI-00247-000', 'BraTS-GLI-00249-000', 'BraTS-GLI-00250-000', 'BraTS-GLI-00251-000', 'BraTS-GLI-00258-000', 'BraTS-GLI-00259-000', 'BraTS-GLI-00260-000', 'BraTS-GLI-00261-000', 'BraTS-GLI-00262-000', 'BraTS-GLI-00263-000', 'BraTS-GLI-00266-000', 'BraTS-GLI-00267-000', 'BraTS-GLI-00270-000', 'BraTS-GLI-00271-000', 'BraTS-GLI-00274-000', 'BraTS-GLI-00275-000', 'BraTS-GLI-00280-000', 'BraTS-GLI-00281-000', 'BraTS-GLI-00283-000', 'BraTS-GLI-00284-000', 'BraTS-GLI-00285-000', 'BraTS-GLI-00289-000', 'BraTS-GLI-00290-000', 'BraTS-GLI-00291-000', 'BraTS-GLI-00292-000', 'BraTS-GLI-00293-000', 'BraTS-GLI-00294-000', 'BraTS-GLI-00296-000', 'BraTS-GLI-00297-000', 'BraTS-GLI-00298-000', 'BraTS-GLI-00299-000', 'BraTS-GLI-00300-000', 'BraTS-GLI-00303-000', 'BraTS-GLI-00304-000', 'BraTS-GLI-00305-000', 'BraTS-GLI-00306-000', 'BraTS-GLI-00309-000', 'BraTS-GLI-00311-000', 'BraTS-GLI-00313-000', 'BraTS-GLI-00314-000', 'BraTS-GLI-00316-000', 'BraTS-GLI-00317-000', 'BraTS-GLI-00318-000', 'BraTS-GLI-00321-000', 'BraTS-GLI-00324-000', 'BraTS-GLI-00325-000', 'BraTS-GLI-00327-000', 'BraTS-GLI-00328-000', 'BraTS-GLI-00329-000', 'BraTS-GLI-00331-000', 'BraTS-GLI-00336-000', 'BraTS-GLI-00338-000', 'BraTS-GLI-00341-000', 'BraTS-GLI-00346-000', 'BraTS-GLI-00347-000', 'BraTS-GLI-00348-000', 'BraTS-GLI-00349-000', 'BraTS-GLI-00350-000', 'BraTS-GLI-00352-000', 'BraTS-GLI-00353-000', 'BraTS-GLI-00356-000', 'BraTS-GLI-00364-000', 'BraTS-GLI-00366-000', 'BraTS-GLI-00367-000', 'BraTS-GLI-00371-000', 'BraTS-GLI-00376-000', 'BraTS-GLI-00377-000', 'BraTS-GLI-00378-000', 'BraTS-GLI-00379-000', 'BraTS-GLI-00382-000', 'BraTS-GLI-00386-000', 'BraTS-GLI-00391-000', 'BraTS-GLI-00397-000', 'BraTS-GLI-00399-000', 'BraTS-GLI-00400-000', 'BraTS-GLI-00401-000', 'BraTS-GLI-00402-000', 'BraTS-GLI-00404-000', 'BraTS-GLI-00405-000', 'BraTS-GLI-00406-000', 'BraTS-GLI-00407-000', 'BraTS-GLI-00409-000', 'BraTS-GLI-00410-000', 'BraTS-GLI-00413-000', 'BraTS-GLI-00414-000', 'BraTS-GLI-00416-000', 'BraTS-GLI-00417-000', 'BraTS-GLI-00421-000', 'BraTS-GLI-00423-000', 'BraTS-GLI-00426-000', 'BraTS-GLI-00429-000', 'BraTS-GLI-00431-000', 'BraTS-GLI-00432-000', 'BraTS-GLI-00433-000', 'BraTS-GLI-00436-000', 'BraTS-GLI-00440-000', 'BraTS-GLI-00443-000', 'BraTS-GLI-00444-000', 'BraTS-GLI-00445-000', 'BraTS-GLI-00446-000', 'BraTS-GLI-00452-000', 'BraTS-GLI-00453-000', 'BraTS-GLI-00454-000', 'BraTS-GLI-00456-000', 'BraTS-GLI-00459-000', 'BraTS-GLI-00464-000', 'BraTS-GLI-00464-001', 'BraTS-GLI-00466-000', 'BraTS-GLI-00470-000', 'BraTS-GLI-00472-000', 'BraTS-GLI-00477-001', 'BraTS-GLI-00478-001', 'BraTS-GLI-00483-000', 'BraTS-GLI-00483-001', 'BraTS-GLI-00485-000', 'BraTS-GLI-00485-001', 'BraTS-GLI-00488-000', 'BraTS-GLI-00491-001', 'BraTS-GLI-00493-000', 'BraTS-GLI-00494-000', 'BraTS-GLI-00495-000', 'BraTS-GLI-00496-000', 'BraTS-GLI-00498-000', 'BraTS-GLI-00498-001', 'BraTS-GLI-00500-000', 'BraTS-GLI-00501-000', 'BraTS-GLI-00502-001', 'BraTS-GLI-00504-000', 'BraTS-GLI-00506-000', 'BraTS-GLI-00507-000', 'BraTS-GLI-00510-000', 'BraTS-GLI-00513-000', 'BraTS-GLI-00514-000', 'BraTS-GLI-00517-000', 'BraTS-GLI-00517-001', 'BraTS-GLI-00518-000', 'BraTS-GLI-00518-001', 'BraTS-GLI-00519-000', 'BraTS-GLI-00520-000', 'BraTS-GLI-00520-001', 'BraTS-GLI-00524-000', 'BraTS-GLI-00525-000', 'BraTS-GLI-00525-001', 'BraTS-GLI-00528-000', 'BraTS-GLI-00529-000', 'BraTS-GLI-00530-000', 'BraTS-GLI-00532-000', 'BraTS-GLI-00539-000', 'BraTS-GLI-00542-000', 'BraTS-GLI-00543-000', 'BraTS-GLI-00544-000', 'BraTS-GLI-00544-001', 'BraTS-GLI-00545-000', 'BraTS-GLI-00545-001', 'BraTS-GLI-00547-000', 'BraTS-GLI-00547-001', 'BraTS-GLI-00548-000', 'BraTS-GLI-00549-000', 'BraTS-GLI-00551-000', 'BraTS-GLI-00552-000', 'BraTS-GLI-00552-001', 'BraTS-GLI-00554-000', 'BraTS-GLI-00555-001', 'BraTS-GLI-00556-000', 'BraTS-GLI-00556-001', 'BraTS-GLI-00557-000', 'BraTS-GLI-00558-000', 'BraTS-GLI-00559-000', 'BraTS-GLI-00559-001', 'BraTS-GLI-00561-000', 'BraTS-GLI-00563-000', 'BraTS-GLI-00565-000', 'BraTS-GLI-00567-000', 'BraTS-GLI-00568-000', 'BraTS-GLI-00569-000', 'BraTS-GLI-00571-000', 'BraTS-GLI-00572-000', 'BraTS-GLI-00574-000', 'BraTS-GLI-00575-000', 'BraTS-GLI-00576-000', 'BraTS-GLI-00577-000', 'BraTS-GLI-00578-000', 'BraTS-GLI-00579-000', 'BraTS-GLI-00580-000', 'BraTS-GLI-00581-000', 'BraTS-GLI-00582-000', 'BraTS-GLI-00583-000', 'BraTS-GLI-00584-000', 'BraTS-GLI-00586-000', 'BraTS-GLI-00588-000', 'BraTS-GLI-00589-000', 'BraTS-GLI-00590-000', 'BraTS-GLI-00591-000', 'BraTS-GLI-00593-000', 'BraTS-GLI-00594-000', 'BraTS-GLI-00598-000', 'BraTS-GLI-00601-000', 'BraTS-GLI-00602-000', 'BraTS-GLI-00604-000', 'BraTS-GLI-00605-000', 'BraTS-GLI-00606-000', 'BraTS-GLI-00607-000', 'BraTS-GLI-00607-001', 'BraTS-GLI-00608-000', 'BraTS-GLI-00608-001', 'BraTS-GLI-00610-000', 'BraTS-GLI-00610-001', 'BraTS-GLI-00611-001', 'BraTS-GLI-00613-001', 'BraTS-GLI-00615-000', 'BraTS-GLI-00618-000', 'BraTS-GLI-00619-001', 'BraTS-GLI-00621-000', 'BraTS-GLI-00622-000', 'BraTS-GLI-00623-000', 'BraTS-GLI-00624-000', 'BraTS-GLI-00625-000', 'BraTS-GLI-00626-000', 'BraTS-GLI-00628-000', 'BraTS-GLI-00630-000', 'BraTS-GLI-00630-001', 'BraTS-GLI-00636-001', 'BraTS-GLI-00638-000', 'BraTS-GLI-00639-000', 'BraTS-GLI-00640-000', 'BraTS-GLI-00641-000', 'BraTS-GLI-00642-000', 'BraTS-GLI-00645-000', 'BraTS-GLI-00645-001', 'BraTS-GLI-00646-000', 'BraTS-GLI-00646-001', 'BraTS-GLI-00649-000', 'BraTS-GLI-00649-001', 'BraTS-GLI-00650-000', 'BraTS-GLI-00651-000', 'BraTS-GLI-00654-000', 'BraTS-GLI-00655-000', 'BraTS-GLI-00655-001', 'BraTS-GLI-00658-000', 'BraTS-GLI-00659-000', 'BraTS-GLI-00661-000', 'BraTS-GLI-00663-000', 'BraTS-GLI-00674-000', 'BraTS-GLI-00675-000', 'BraTS-GLI-00675-001', 'BraTS-GLI-00677-000', 'BraTS-GLI-00680-001', 'BraTS-GLI-00683-000', 'BraTS-GLI-00683-001', 'BraTS-GLI-00684-000', 'BraTS-GLI-00685-000', 'BraTS-GLI-00685-001', 'BraTS-GLI-00686-000', 'BraTS-GLI-00687-000', 'BraTS-GLI-00689-001', 'BraTS-GLI-00691-000', 'BraTS-GLI-00692-000', 'BraTS-GLI-00693-000', 'BraTS-GLI-00694-000', 'BraTS-GLI-00694-001', 'BraTS-GLI-00697-000', 'BraTS-GLI-00698-000', 'BraTS-GLI-00703-000', 'BraTS-GLI-00703-001', 'BraTS-GLI-00704-000', 'BraTS-GLI-00705-000', 'BraTS-GLI-00706-000', 'BraTS-GLI-00707-000', 'BraTS-GLI-00709-000', 'BraTS-GLI-00714-001', 'BraTS-GLI-00715-001', 'BraTS-GLI-00716-000', 'BraTS-GLI-00718-000', 'BraTS-GLI-00723-000', 'BraTS-GLI-00725-000', 'BraTS-GLI-00728-000', 'BraTS-GLI-00729-000', 'BraTS-GLI-00730-000', 'BraTS-GLI-00731-001', 'BraTS-GLI-00732-000', 'BraTS-GLI-00732-001', 'BraTS-GLI-00733-000', 'BraTS-GLI-00733-001', 'BraTS-GLI-00735-001', 'BraTS-GLI-00736-000', 'BraTS-GLI-00739-000', 'BraTS-GLI-00740-000', 'BraTS-GLI-00750-000', 'BraTS-GLI-00750-001', 'BraTS-GLI-00751-000', 'BraTS-GLI-00753-001', 'BraTS-GLI-00756-001', 'BraTS-GLI-00757-000', 'BraTS-GLI-00759-000', 'BraTS-GLI-00760-000', 'BraTS-GLI-00765-000', 'BraTS-GLI-00767-001', 'BraTS-GLI-00768-001', 'BraTS-GLI-00774-000', 'BraTS-GLI-00774-001', 'BraTS-GLI-00775-000', 'BraTS-GLI-00775-001', 'BraTS-GLI-00777-000', 'BraTS-GLI-00777-001', 'BraTS-GLI-00780-000', 'BraTS-GLI-00781-000', 'BraTS-GLI-00784-000', 'BraTS-GLI-00787-000', 'BraTS-GLI-00788-000', 'BraTS-GLI-00789-000', 'BraTS-GLI-00791-000', 'BraTS-GLI-00792-000', 'BraTS-GLI-00795-000', 'BraTS-GLI-00796-000', 'BraTS-GLI-00797-000', 'BraTS-GLI-00799-000', 'BraTS-GLI-00800-000', 'BraTS-GLI-00801-000', 'BraTS-GLI-00802-000', 'BraTS-GLI-00804-000', 'BraTS-GLI-00808-000', 'BraTS-GLI-00809-000', 'BraTS-GLI-00810-000', 'BraTS-GLI-00811-000', 'BraTS-GLI-00816-000', 'BraTS-GLI-00818-000', 'BraTS-GLI-00819-000', 'BraTS-GLI-00820-000', 'BraTS-GLI-00823-000', 'BraTS-GLI-00824-000', 'BraTS-GLI-00828-000', 'BraTS-GLI-00834-000', 'BraTS-GLI-00836-000', 'BraTS-GLI-00839-000', 'BraTS-GLI-00840-000', 'BraTS-GLI-00999-000', 'BraTS-GLI-01000-000', 'BraTS-GLI-01001-000', 'BraTS-GLI-01002-000', 'BraTS-GLI-01005-000', 'BraTS-GLI-01008-000', 'BraTS-GLI-01009-000', 'BraTS-GLI-01010-000', 'BraTS-GLI-01011-000', 'BraTS-GLI-01013-000', 'BraTS-GLI-01014-000', 'BraTS-GLI-01015-000', 'BraTS-GLI-01017-000', 'BraTS-GLI-01018-000', 'BraTS-GLI-01019-000', 'BraTS-GLI-01020-000', 'BraTS-GLI-01021-000', 'BraTS-GLI-01022-000', 'BraTS-GLI-01023-000', 'BraTS-GLI-01024-000', 'BraTS-GLI-01028-000', 'BraTS-GLI-01030-000', 'BraTS-GLI-01032-000', 'BraTS-GLI-01035-000', 'BraTS-GLI-01036-000', 'BraTS-GLI-01039-000', 'BraTS-GLI-01042-000', 'BraTS-GLI-01044-000', 'BraTS-GLI-01046-000', 'BraTS-GLI-01047-000', 'BraTS-GLI-01049-000', 'BraTS-GLI-01050-000', 'BraTS-GLI-01052-000', 'BraTS-GLI-01053-000', 'BraTS-GLI-01054-000', 'BraTS-GLI-01055-000', 'BraTS-GLI-01056-000', 'BraTS-GLI-01058-000', 'BraTS-GLI-01059-000', 'BraTS-GLI-01061-000', 'BraTS-GLI-01063-000', 'BraTS-GLI-01064-000', 'BraTS-GLI-01065-000', 'BraTS-GLI-01066-000', 'BraTS-GLI-01067-000', 'BraTS-GLI-01068-000', 'BraTS-GLI-01070-000', 'BraTS-GLI-01072-000', 'BraTS-GLI-01073-000', 'BraTS-GLI-01074-000', 'BraTS-GLI-01075-000', 'BraTS-GLI-01076-000', 'BraTS-GLI-01079-000', 'BraTS-GLI-01080-000', 'BraTS-GLI-01081-000', 'BraTS-GLI-01082-000', 'BraTS-GLI-01084-000', 'BraTS-GLI-01085-000', 'BraTS-GLI-01086-000', 'BraTS-GLI-01087-000', 'BraTS-GLI-01088-000', 'BraTS-GLI-01089-000', 'BraTS-GLI-01090-000', 'BraTS-GLI-01091-000', 'BraTS-GLI-01092-000', 'BraTS-GLI-01093-000', 'BraTS-GLI-01094-000', 'BraTS-GLI-01095-000', 'BraTS-GLI-01097-000', 'BraTS-GLI-01098-000', 'BraTS-GLI-01100-000', 'BraTS-GLI-01101-000', 'BraTS-GLI-01102-000', 'BraTS-GLI-01103-000', 'BraTS-GLI-01104-000', 'BraTS-GLI-01105-000', 'BraTS-GLI-01106-000', 'BraTS-GLI-01107-000', 'BraTS-GLI-01108-000', 'BraTS-GLI-01109-000', 'BraTS-GLI-01110-000', 'BraTS-GLI-01111-000', 'BraTS-GLI-01112-000', 'BraTS-GLI-01113-000', 'BraTS-GLI-01114-000', 'BraTS-GLI-01115-000', 'BraTS-GLI-01116-000', 'BraTS-GLI-01117-000', 'BraTS-GLI-01118-000', 'BraTS-GLI-01119-000', 'BraTS-GLI-01120-000', 'BraTS-GLI-01121-000', 'BraTS-GLI-01122-000', 'BraTS-GLI-01123-000', 'BraTS-GLI-01124-000', 'BraTS-GLI-01127-000', 'BraTS-GLI-01128-000', 'BraTS-GLI-01129-000', 'BraTS-GLI-01132-000', 'BraTS-GLI-01133-000', 'BraTS-GLI-01136-000', 'BraTS-GLI-01138-000', 'BraTS-GLI-01140-000', 'BraTS-GLI-01141-000', 'BraTS-GLI-01142-000', 'BraTS-GLI-01143-000', 'BraTS-GLI-01144-000', 'BraTS-GLI-01147-000', 'BraTS-GLI-01151-000', 'BraTS-GLI-01153-000', 'BraTS-GLI-01154-000', 'BraTS-GLI-01155-000', 'BraTS-GLI-01157-000', 'BraTS-GLI-01158-000', 'BraTS-GLI-01159-000', 'BraTS-GLI-01160-001', 'BraTS-GLI-01163-000', 'BraTS-GLI-01164-000', 'BraTS-GLI-01165-000', 'BraTS-GLI-01166-000', 'BraTS-GLI-01167-000', 'BraTS-GLI-01168-000', 'BraTS-GLI-01169-000', 'BraTS-GLI-01170-000', 'BraTS-GLI-01171-000', 'BraTS-GLI-01172-000', 'BraTS-GLI-01175-000', 'BraTS-GLI-01176-000', 'BraTS-GLI-01177-000', 'BraTS-GLI-01178-000', 'BraTS-GLI-01179-000', 'BraTS-GLI-01180-000', 'BraTS-GLI-01181-000', 'BraTS-GLI-01183-000', 'BraTS-GLI-01186-000', 'BraTS-GLI-01188-000', 'BraTS-GLI-01189-000', 'BraTS-GLI-01190-000', 'BraTS-GLI-01191-000', 'BraTS-GLI-01192-000', 'BraTS-GLI-01193-000', 'BraTS-GLI-01194-000', 'BraTS-GLI-01196-000', 'BraTS-GLI-01197-000', 'BraTS-GLI-01198-000', 'BraTS-GLI-01199-000', 'BraTS-GLI-01200-000', 'BraTS-GLI-01202-000', 'BraTS-GLI-01203-000', 'BraTS-GLI-01204-000', 'BraTS-GLI-01205-000', 'BraTS-GLI-01206-000', 'BraTS-GLI-01207-000', 'BraTS-GLI-01213-000', 'BraTS-GLI-01214-000', 'BraTS-GLI-01215-000', 'BraTS-GLI-01216-000', 'BraTS-GLI-01217-000', 'BraTS-GLI-01218-000', 'BraTS-GLI-01220-000', 'BraTS-GLI-01221-000', 'BraTS-GLI-01223-000', 'BraTS-GLI-01224-000', 'BraTS-GLI-01227-000', 'BraTS-GLI-01228-000', 'BraTS-GLI-01229-000', 'BraTS-GLI-01230-000', 'BraTS-GLI-01232-000', 'BraTS-GLI-01233-000', 'BraTS-GLI-01234-000', 'BraTS-GLI-01235-000', 'BraTS-GLI-01238-000', 'BraTS-GLI-01239-000', 'BraTS-GLI-01240-000', 'BraTS-GLI-01241-000', 'BraTS-GLI-01242-000', 'BraTS-GLI-01243-000', 'BraTS-GLI-01247-000', 'BraTS-GLI-01248-000', 'BraTS-GLI-01249-000', 'BraTS-GLI-01252-000', 'BraTS-GLI-01253-000', 'BraTS-GLI-01255-000', 'BraTS-GLI-01256-000', 'BraTS-GLI-01257-000', 'BraTS-GLI-01259-000', 'BraTS-GLI-01261-000', 'BraTS-GLI-01262-000', 'BraTS-GLI-01264-000', 'BraTS-GLI-01270-000', 'BraTS-GLI-01273-000', 'BraTS-GLI-01274-000', 'BraTS-GLI-01277-000', 'BraTS-GLI-01278-000', 'BraTS-GLI-01280-000', 'BraTS-GLI-01281-000', 'BraTS-GLI-01287-000', 'BraTS-GLI-01289-000', 'BraTS-GLI-01290-000', 'BraTS-GLI-01291-000', 'BraTS-GLI-01293-000', 'BraTS-GLI-01294-000', 'BraTS-GLI-01295-000', 'BraTS-GLI-01296-000', 'BraTS-GLI-01298-000', 'BraTS-GLI-01299-000', 'BraTS-GLI-01300-000', 'BraTS-GLI-01301-000', 'BraTS-GLI-01302-000', 'BraTS-GLI-01304-000', 'BraTS-GLI-01306-000', 'BraTS-GLI-01307-000', 'BraTS-GLI-01311-000', 'BraTS-GLI-01312-000', 'BraTS-GLI-01313-000', 'BraTS-GLI-01314-000', 'BraTS-GLI-01315-000', 'BraTS-GLI-01316-000', 'BraTS-GLI-01317-000', 'BraTS-GLI-01318-000', 'BraTS-GLI-01319-000', 'BraTS-GLI-01321-000', 'BraTS-GLI-01324-000', 'BraTS-GLI-01325-000', 'BraTS-GLI-01326-000', 'BraTS-GLI-01328-000', 'BraTS-GLI-01329-000', 'BraTS-GLI-01331-000', 'BraTS-GLI-01332-000', 'BraTS-GLI-01333-000', 'BraTS-GLI-01334-000', 'BraTS-GLI-01335-000', 'BraTS-GLI-01336-000', 'BraTS-GLI-01337-000', 'BraTS-GLI-01338-000', 'BraTS-GLI-01339-000', 'BraTS-GLI-01340-000', 'BraTS-GLI-01341-000', 'BraTS-GLI-01342-000', 'BraTS-GLI-01343-000', 'BraTS-GLI-01344-000', 'BraTS-GLI-01345-000', 'BraTS-GLI-01346-000', 'BraTS-GLI-01349-000', 'BraTS-GLI-01350-000', 'BraTS-GLI-01351-000', 'BraTS-GLI-01352-000', 'BraTS-GLI-01354-000', 'BraTS-GLI-01355-000', 'BraTS-GLI-01356-000', 'BraTS-GLI-01357-000', 'BraTS-GLI-01358-000', 'BraTS-GLI-01359-000', 'BraTS-GLI-01360-000', 'BraTS-GLI-01362-000', 'BraTS-GLI-01363-000', 'BraTS-GLI-01364-000', 'BraTS-GLI-01365-000', 'BraTS-GLI-01366-000', 'BraTS-GLI-01368-000', 'BraTS-GLI-01369-000', 'BraTS-GLI-01371-000', 'BraTS-GLI-01373-000', 'BraTS-GLI-01374-000', 'BraTS-GLI-01375-000', 'BraTS-GLI-01377-000', 'BraTS-GLI-01378-000', 'BraTS-GLI-01380-000', 'BraTS-GLI-01381-000', 'BraTS-GLI-01384-000', 'BraTS-GLI-01385-000', 'BraTS-GLI-01386-000', 'BraTS-GLI-01388-000', 'BraTS-GLI-01389-000', 'BraTS-GLI-01392-000', 'BraTS-GLI-01393-000', 'BraTS-GLI-01394-000', 'BraTS-GLI-01395-000', 'BraTS-GLI-01397-000', 'BraTS-GLI-01398-000', 'BraTS-GLI-01399-000', 'BraTS-GLI-01400-000', 'BraTS-GLI-01403-000', 'BraTS-GLI-01404-000', 'BraTS-GLI-01406-000', 'BraTS-GLI-01409-000', 'BraTS-GLI-01412-000', 'BraTS-GLI-01413-000', 'BraTS-GLI-01415-000', 'BraTS-GLI-01416-000', 'BraTS-GLI-01417-000', 'BraTS-GLI-01418-000', 'BraTS-GLI-01419-000', 'BraTS-GLI-01420-000', 'BraTS-GLI-01423-000', 'BraTS-GLI-01424-000', 'BraTS-GLI-01426-000', 'BraTS-GLI-01427-000', 'BraTS-GLI-01428-000', 'BraTS-GLI-01429-000', 'BraTS-GLI-01431-000', 'BraTS-GLI-01432-000', 'BraTS-GLI-01433-000', 'BraTS-GLI-01434-000', 'BraTS-GLI-01435-000', 'BraTS-GLI-01436-000', 'BraTS-GLI-01437-000', 'BraTS-GLI-01438-000', 'BraTS-GLI-01439-000', 'BraTS-GLI-01441-000', 'BraTS-GLI-01442-000', 'BraTS-GLI-01443-000', 'BraTS-GLI-01444-000', 'BraTS-GLI-01445-000', 'BraTS-GLI-01446-000', 'BraTS-GLI-01447-000', 'BraTS-GLI-01449-000', 'BraTS-GLI-01450-000', 'BraTS-GLI-01452-000', 'BraTS-GLI-01453-000', 'BraTS-GLI-01454-000', 'BraTS-GLI-01455-000', 'BraTS-GLI-01456-000', 'BraTS-GLI-01457-000', 'BraTS-GLI-01458-000', 'BraTS-GLI-01459-000', 'BraTS-GLI-01462-000', 'BraTS-GLI-01463-000', 'BraTS-GLI-01464-000', 'BraTS-GLI-01466-000', 'BraTS-GLI-01469-000', 'BraTS-GLI-01471-000', 'BraTS-GLI-01472-000', 'BraTS-GLI-01474-000', 'BraTS-GLI-01475-000', 'BraTS-GLI-01476-000', 'BraTS-GLI-01477-000', 'BraTS-GLI-01479-000', 'BraTS-GLI-01480-000', 'BraTS-GLI-01481-000', 'BraTS-GLI-01483-000', 'BraTS-GLI-01485-000', 'BraTS-GLI-01486-000', 'BraTS-GLI-01488-000', 'BraTS-GLI-01489-000', 'BraTS-GLI-01491-000', 'BraTS-GLI-01492-000', 'BraTS-GLI-01493-000', 'BraTS-GLI-01494-000', 'BraTS-GLI-01495-000', 'BraTS-GLI-01496-000', 'BraTS-GLI-01497-000', 'BraTS-GLI-01498-000', 'BraTS-GLI-01499-000', 'BraTS-GLI-01502-000', 'BraTS-GLI-01504-000', 'BraTS-GLI-01505-000', 'BraTS-GLI-01506-000', 'BraTS-GLI-01507-000', 'BraTS-GLI-01508-000', 'BraTS-GLI-01510-000', 'BraTS-GLI-01511-000', 'BraTS-GLI-01512-000', 'BraTS-GLI-01513-000', 'BraTS-GLI-01516-000', 'BraTS-GLI-01517-000', 'BraTS-GLI-01518-000', 'BraTS-GLI-01519-000', 'BraTS-GLI-01520-000', 'BraTS-GLI-01521-000', 'BraTS-GLI-01522-000', 'BraTS-GLI-01523-000', 'BraTS-GLI-01524-000', 'BraTS-GLI-01526-000', 'BraTS-GLI-01528-000', 'BraTS-GLI-01529-000', 'BraTS-GLI-01530-000', 'BraTS-GLI-01531-000', 'BraTS-GLI-01532-000', 'BraTS-GLI-01533-000', 'BraTS-GLI-01534-000', 'BraTS-GLI-01535-000', 'BraTS-GLI-01536-000', 'BraTS-GLI-01610-000', 'BraTS-GLI-01659-000', 'BraTS-GLI-01660-000', 'BraTS-GLI-01662-000', 'BraTS-GLI-01663-000', 'BraTS-GLI-01664-000', 'BraTS-GLI-01665-000', 'BraTS-GLI-01666-000']\n",
      "Val ['BraTS-GLI-00016-000', 'BraTS-GLI-00017-001', 'BraTS-GLI-00020-001', 'BraTS-GLI-00022-001', 'BraTS-GLI-00035-000', 'BraTS-GLI-00044-000', 'BraTS-GLI-00099-000', 'BraTS-GLI-00102-000', 'BraTS-GLI-00130-000', 'BraTS-GLI-00133-000', 'BraTS-GLI-00143-000', 'BraTS-GLI-00148-000', 'BraTS-GLI-00151-000', 'BraTS-GLI-00157-000', 'BraTS-GLI-00158-000', 'BraTS-GLI-00159-000', 'BraTS-GLI-00183-000', 'BraTS-GLI-00187-000', 'BraTS-GLI-00246-000', 'BraTS-GLI-00310-000', 'BraTS-GLI-00312-000', 'BraTS-GLI-00320-000', 'BraTS-GLI-00332-000', 'BraTS-GLI-00344-000', 'BraTS-GLI-00351-000', 'BraTS-GLI-00373-000', 'BraTS-GLI-00375-000', 'BraTS-GLI-00387-000', 'BraTS-GLI-00392-000', 'BraTS-GLI-00395-000', 'BraTS-GLI-00403-000', 'BraTS-GLI-00430-000', 'BraTS-GLI-00451-000', 'BraTS-GLI-00495-001', 'BraTS-GLI-00499-000', 'BraTS-GLI-00500-001', 'BraTS-GLI-00502-000', 'BraTS-GLI-00511-000', 'BraTS-GLI-00537-000', 'BraTS-GLI-00540-001', 'BraTS-GLI-00548-001', 'BraTS-GLI-00550-000', 'BraTS-GLI-00558-001', 'BraTS-GLI-00587-000', 'BraTS-GLI-00596-000', 'BraTS-GLI-00599-000', 'BraTS-GLI-00602-001', 'BraTS-GLI-00611-000', 'BraTS-GLI-00613-000', 'BraTS-GLI-00616-000', 'BraTS-GLI-00641-001', 'BraTS-GLI-00656-000', 'BraTS-GLI-00657-000', 'BraTS-GLI-00667-000', 'BraTS-GLI-00668-000', 'BraTS-GLI-00676-001', 'BraTS-GLI-00682-000', 'BraTS-GLI-00689-000', 'BraTS-GLI-00691-001', 'BraTS-GLI-00714-000', 'BraTS-GLI-00729-001', 'BraTS-GLI-00730-001', 'BraTS-GLI-00734-001', 'BraTS-GLI-00736-001', 'BraTS-GLI-00737-000', 'BraTS-GLI-00746-000', 'BraTS-GLI-00747-000', 'BraTS-GLI-00756-000', 'BraTS-GLI-00767-000', 'BraTS-GLI-00778-000', 'BraTS-GLI-00782-000', 'BraTS-GLI-00803-000', 'BraTS-GLI-00805-000', 'BraTS-GLI-01025-000', 'BraTS-GLI-01037-000', 'BraTS-GLI-01057-000', 'BraTS-GLI-01077-000', 'BraTS-GLI-01099-000', 'BraTS-GLI-01131-000', 'BraTS-GLI-01137-000', 'BraTS-GLI-01139-000', 'BraTS-GLI-01145-000', 'BraTS-GLI-01162-000', 'BraTS-GLI-01173-000', 'BraTS-GLI-01182-000', 'BraTS-GLI-01195-000', 'BraTS-GLI-01208-000', 'BraTS-GLI-01210-000', 'BraTS-GLI-01211-000', 'BraTS-GLI-01212-000', 'BraTS-GLI-01236-000', 'BraTS-GLI-01237-000', 'BraTS-GLI-01254-000', 'BraTS-GLI-01266-000', 'BraTS-GLI-01267-000', 'BraTS-GLI-01268-000', 'BraTS-GLI-01271-000', 'BraTS-GLI-01276-000', 'BraTS-GLI-01284-000', 'BraTS-GLI-01285-000', 'BraTS-GLI-01303-000', 'BraTS-GLI-01309-000', 'BraTS-GLI-01310-000', 'BraTS-GLI-01330-000', 'BraTS-GLI-01370-000', 'BraTS-GLI-01376-000', 'BraTS-GLI-01382-000', 'BraTS-GLI-01391-000', 'BraTS-GLI-01396-000', 'BraTS-GLI-01401-000', 'BraTS-GLI-01408-000', 'BraTS-GLI-01425-000', 'BraTS-GLI-01430-000', 'BraTS-GLI-01440-000', 'BraTS-GLI-01451-000', 'BraTS-GLI-01460-000', 'BraTS-GLI-01467-000', 'BraTS-GLI-01478-000', 'BraTS-GLI-01482-000', 'BraTS-GLI-01484-000', 'BraTS-GLI-01487-000', 'BraTS-GLI-01525-000', 'BraTS-GLI-01537-000', 'BraTS-GLI-01657-000', 'BraTS-GLI-01658-000']\n",
      "Tsting ['BraTS-GLI-00000-000', 'BraTS-GLI-00005-000', 'BraTS-GLI-00008-001', 'BraTS-GLI-00012-000', 'BraTS-GLI-00019-000', 'BraTS-GLI-00022-000', 'BraTS-GLI-00024-001', 'BraTS-GLI-00036-000', 'BraTS-GLI-00048-000', 'BraTS-GLI-00049-000', 'BraTS-GLI-00059-000', 'BraTS-GLI-00061-000', 'BraTS-GLI-00068-000', 'BraTS-GLI-00071-000', 'BraTS-GLI-00074-000', 'BraTS-GLI-00081-000', 'BraTS-GLI-00084-001', 'BraTS-GLI-00095-000', 'BraTS-GLI-00100-000', 'BraTS-GLI-00104-000', 'BraTS-GLI-00111-000', 'BraTS-GLI-00116-000', 'BraTS-GLI-00121-000', 'BraTS-GLI-00123-000', 'BraTS-GLI-00124-000', 'BraTS-GLI-00128-000', 'BraTS-GLI-00139-000', 'BraTS-GLI-00144-000', 'BraTS-GLI-00147-000', 'BraTS-GLI-00160-000', 'BraTS-GLI-00185-000', 'BraTS-GLI-00186-000', 'BraTS-GLI-00192-000', 'BraTS-GLI-00217-000', 'BraTS-GLI-00221-000', 'BraTS-GLI-00227-000', 'BraTS-GLI-00253-000', 'BraTS-GLI-00254-000', 'BraTS-GLI-00269-000', 'BraTS-GLI-00273-000', 'BraTS-GLI-00282-000', 'BraTS-GLI-00286-000', 'BraTS-GLI-00288-000', 'BraTS-GLI-00301-000', 'BraTS-GLI-00322-000', 'BraTS-GLI-00334-000', 'BraTS-GLI-00339-000', 'BraTS-GLI-00340-000', 'BraTS-GLI-00343-000', 'BraTS-GLI-00359-000', 'BraTS-GLI-00360-000', 'BraTS-GLI-00369-000', 'BraTS-GLI-00370-000', 'BraTS-GLI-00380-000', 'BraTS-GLI-00383-000', 'BraTS-GLI-00388-000', 'BraTS-GLI-00389-000', 'BraTS-GLI-00390-000', 'BraTS-GLI-00412-000', 'BraTS-GLI-00418-000', 'BraTS-GLI-00419-000', 'BraTS-GLI-00425-000', 'BraTS-GLI-00441-000', 'BraTS-GLI-00442-000', 'BraTS-GLI-00448-000', 'BraTS-GLI-00449-000', 'BraTS-GLI-00455-000', 'BraTS-GLI-00457-000', 'BraTS-GLI-00468-000', 'BraTS-GLI-00469-000', 'BraTS-GLI-00469-001', 'BraTS-GLI-00477-000', 'BraTS-GLI-00478-000', 'BraTS-GLI-00479-000', 'BraTS-GLI-00479-001', 'BraTS-GLI-00480-000', 'BraTS-GLI-00480-001', 'BraTS-GLI-00481-000', 'BraTS-GLI-00481-001', 'BraTS-GLI-00491-000', 'BraTS-GLI-00494-001', 'BraTS-GLI-00499-001', 'BraTS-GLI-00505-000', 'BraTS-GLI-00510-001', 'BraTS-GLI-00511-001', 'BraTS-GLI-00512-000', 'BraTS-GLI-00514-001', 'BraTS-GLI-00516-000', 'BraTS-GLI-00523-000', 'BraTS-GLI-00526-000', 'BraTS-GLI-00533-000', 'BraTS-GLI-00538-000', 'BraTS-GLI-00540-000', 'BraTS-GLI-00549-001', 'BraTS-GLI-00550-001', 'BraTS-GLI-00555-000', 'BraTS-GLI-00570-000', 'BraTS-GLI-00597-000', 'BraTS-GLI-00612-000', 'BraTS-GLI-00612-001', 'BraTS-GLI-00619-000', 'BraTS-GLI-00620-000', 'BraTS-GLI-00620-001', 'BraTS-GLI-00631-000', 'BraTS-GLI-00636-000', 'BraTS-GLI-00652-000', 'BraTS-GLI-00654-001', 'BraTS-GLI-00674-001', 'BraTS-GLI-00676-000', 'BraTS-GLI-00679-000', 'BraTS-GLI-00680-000', 'BraTS-GLI-00682-001', 'BraTS-GLI-00688-000', 'BraTS-GLI-00690-000', 'BraTS-GLI-00692-001', 'BraTS-GLI-00708-000', 'BraTS-GLI-00708-001', 'BraTS-GLI-00715-000', 'BraTS-GLI-00724-000', 'BraTS-GLI-00725-001', 'BraTS-GLI-00727-000', 'BraTS-GLI-00727-001', 'BraTS-GLI-00731-000', 'BraTS-GLI-00734-000', 'BraTS-GLI-00735-000', 'BraTS-GLI-00742-000', 'BraTS-GLI-00744-000', 'BraTS-GLI-00751-001', 'BraTS-GLI-00753-000', 'BraTS-GLI-00758-000', 'BraTS-GLI-00764-000', 'BraTS-GLI-00768-000', 'BraTS-GLI-00772-000', 'BraTS-GLI-00772-001', 'BraTS-GLI-00773-000', 'BraTS-GLI-00793-000', 'BraTS-GLI-00806-000', 'BraTS-GLI-00807-000', 'BraTS-GLI-00814-000', 'BraTS-GLI-00830-000', 'BraTS-GLI-00831-000', 'BraTS-GLI-00837-000', 'BraTS-GLI-00838-000', 'BraTS-GLI-01003-000', 'BraTS-GLI-01004-000', 'BraTS-GLI-01007-000', 'BraTS-GLI-01012-000', 'BraTS-GLI-01016-000', 'BraTS-GLI-01026-000', 'BraTS-GLI-01027-000', 'BraTS-GLI-01027-001', 'BraTS-GLI-01029-000', 'BraTS-GLI-01031-000', 'BraTS-GLI-01033-000', 'BraTS-GLI-01034-000', 'BraTS-GLI-01038-000', 'BraTS-GLI-01040-000', 'BraTS-GLI-01041-000', 'BraTS-GLI-01043-000', 'BraTS-GLI-01045-000', 'BraTS-GLI-01048-000', 'BraTS-GLI-01051-000', 'BraTS-GLI-01060-000', 'BraTS-GLI-01062-000', 'BraTS-GLI-01069-000', 'BraTS-GLI-01071-000', 'BraTS-GLI-01078-000', 'BraTS-GLI-01083-000', 'BraTS-GLI-01096-000', 'BraTS-GLI-01125-000', 'BraTS-GLI-01126-000', 'BraTS-GLI-01130-000', 'BraTS-GLI-01134-000', 'BraTS-GLI-01135-000', 'BraTS-GLI-01146-000', 'BraTS-GLI-01148-000', 'BraTS-GLI-01149-000', 'BraTS-GLI-01150-000', 'BraTS-GLI-01152-000', 'BraTS-GLI-01156-000', 'BraTS-GLI-01160-000', 'BraTS-GLI-01161-000', 'BraTS-GLI-01174-000', 'BraTS-GLI-01184-000', 'BraTS-GLI-01185-000', 'BraTS-GLI-01187-000', 'BraTS-GLI-01201-000', 'BraTS-GLI-01209-000', 'BraTS-GLI-01219-000', 'BraTS-GLI-01222-000', 'BraTS-GLI-01225-000', 'BraTS-GLI-01226-000', 'BraTS-GLI-01231-000', 'BraTS-GLI-01244-000', 'BraTS-GLI-01245-000', 'BraTS-GLI-01246-000', 'BraTS-GLI-01250-000', 'BraTS-GLI-01251-000', 'BraTS-GLI-01258-000', 'BraTS-GLI-01260-000', 'BraTS-GLI-01263-000', 'BraTS-GLI-01265-000', 'BraTS-GLI-01269-000', 'BraTS-GLI-01272-000', 'BraTS-GLI-01275-000', 'BraTS-GLI-01279-000', 'BraTS-GLI-01282-000', 'BraTS-GLI-01283-000', 'BraTS-GLI-01286-000', 'BraTS-GLI-01288-000', 'BraTS-GLI-01292-000', 'BraTS-GLI-01297-000', 'BraTS-GLI-01305-000', 'BraTS-GLI-01308-000', 'BraTS-GLI-01320-000', 'BraTS-GLI-01322-000', 'BraTS-GLI-01323-000', 'BraTS-GLI-01327-000', 'BraTS-GLI-01347-000', 'BraTS-GLI-01348-000', 'BraTS-GLI-01353-000', 'BraTS-GLI-01361-000', 'BraTS-GLI-01367-000', 'BraTS-GLI-01372-000', 'BraTS-GLI-01379-000', 'BraTS-GLI-01383-000', 'BraTS-GLI-01387-000', 'BraTS-GLI-01390-000', 'BraTS-GLI-01402-000', 'BraTS-GLI-01405-000', 'BraTS-GLI-01407-000', 'BraTS-GLI-01410-000', 'BraTS-GLI-01411-000', 'BraTS-GLI-01414-000', 'BraTS-GLI-01421-000', 'BraTS-GLI-01422-000', 'BraTS-GLI-01448-000', 'BraTS-GLI-01461-000', 'BraTS-GLI-01465-000', 'BraTS-GLI-01468-000', 'BraTS-GLI-01470-000', 'BraTS-GLI-01473-000', 'BraTS-GLI-01490-000', 'BraTS-GLI-01500-000', 'BraTS-GLI-01501-000', 'BraTS-GLI-01503-000', 'BraTS-GLI-01509-000', 'BraTS-GLI-01514-000', 'BraTS-GLI-01515-000', 'BraTS-GLI-01527-000', 'BraTS-GLI-01661-000']\n",
      "Number of training samples 875\n",
      "Number of validation samples 125\n",
      "Number of testing samples 251\n",
      "------------------------------------------------\n"
     ]
    }
   ],
   "source": [
    "args = {\n",
    "    'workers': 2,\n",
    "    'epochs': 25,\n",
    "    'train_batch_size': 2,\n",
    "    'val_batch_size': 2,\n",
    "    'test_batch_size': 3,\n",
    "    'learning_rate': 1e-3,\n",
    "    'weight_decay': 1e-5,\n",
    "    'data_dir': '/kaggle/input/bratsglioma/Training/',\n",
    "    'in_checkpoint_dir': Path('/kaggle/input/gliomateachernormalizednew/'),\n",
    "    'out_checkpoint_dir': Path('/kaggle/working/')\n",
    "}\n",
    "trainLoader, valLoader, testLoader = prepare_data_loaders(args)\n",
    "print(\"------------------------------------------------\")"
   ]
  },
  {
   "cell_type": "markdown",
   "id": "3e49b97e",
   "metadata": {},
   "source": [
    "## Africa Data Split"
   ]
  },
  {
   "cell_type": "code",
   "execution_count": 15,
   "id": "cece9331",
   "metadata": {
    "execution": {
     "iopub.execute_input": "2025-03-24T11:11:31.519050Z",
     "iopub.status.busy": "2025-03-24T11:11:31.518604Z",
     "iopub.status.idle": "2025-03-24T11:11:31.555295Z",
     "shell.execute_reply": "2025-03-24T11:11:31.554059Z"
    },
    "papermill": {
     "duration": 0.047159,
     "end_time": "2025-03-24T11:11:31.557497",
     "exception": false,
     "start_time": "2025-03-24T11:11:31.510338",
     "status": "completed"
    },
    "tags": []
   },
   "outputs": [
    {
     "name": "stdout",
     "output_type": "stream",
     "text": [
      "Train ['BraTS-SSA-00007-000', 'BraTS-SSA-00008-000', 'BraTS-SSA-00010-000', 'BraTS-SSA-00011-000', 'BraTS-SSA-00012-000', 'BraTS-SSA-00015-000', 'BraTS-SSA-00025-000', 'BraTS-SSA-00026-000', 'BraTS-SSA-00028-000', 'BraTS-SSA-00040-000', 'BraTS-SSA-00041-000', 'BraTS-SSA-00046-000', 'BraTS-SSA-00047-000', 'BraTS-SSA-00051-000', 'BraTS-SSA-00056-000', 'BraTS-SSA-00074-000', 'BraTS-SSA-00076-000', 'BraTS-SSA-00078-000', 'BraTS-SSA-00080-000', 'BraTS-SSA-00081-000', 'BraTS-SSA-00089-000', 'BraTS-SSA-00092-000', 'BraTS-SSA-00095-000', 'BraTS-SSA-00096-000', 'BraTS-SSA-00105-000', 'BraTS-SSA-00106-000', 'BraTS-SSA-00108-000', 'BraTS-SSA-00110-000', 'BraTS-SSA-00111-000', 'BraTS-SSA-00112-000', 'BraTS-SSA-00113-000', 'BraTS-SSA-00114-000', 'BraTS-SSA-00116-000', 'BraTS-SSA-00117-000', 'BraTS-SSA-00119-000', 'BraTS-SSA-00120-000', 'BraTS-SSA-00121-000', 'BraTS-SSA-00124-000', 'BraTS-SSA-00125-000', 'BraTS-SSA-00126-000', 'BraTS-SSA-00127-000', 'BraTS-SSA-00128-000', 'BraTS-SSA-00129-000', 'BraTS-SSA-00131-000', 'BraTS-SSA-00133-000', 'BraTS-SSA-00134-000', 'BraTS-SSA-00135-000', 'BraTS-SSA-00136-000', 'BraTS-SSA-00137-000', 'BraTS-SSA-00138-000', 'BraTS-SSA-00139-000', 'BraTS-SSA-00140-000', 'BraTS-SSA-00141-000', 'BraTS-SSA-00143-000', 'BraTS-SSA-00144-000', 'BraTS-SSA-00146-000', 'BraTS-SSA-00147-000', 'BraTS-SSA-00149-000', 'BraTS-SSA-00150-000', 'BraTS-SSA-00151-000', 'BraTS-SSA-00152-000', 'BraTS-SSA-00153-000', 'BraTS-SSA-00154-000', 'BraTS-SSA-00155-000', 'BraTS-SSA-00156-000', 'BraTS-SSA-00157-000', 'BraTS-SSA-00158-000', 'BraTS-SSA-00161-000', 'BraTS-SSA-00164-000', 'BraTS-SSA-00165-000', 'BraTS-SSA-00166-000', 'BraTS-SSA-00169-000', 'BraTS-SSA-00175-000', 'BraTS-SSA-00177-000', 'BraTS-SSA-00180-000', 'BraTS-SSA-00183-000', 'BraTS-SSA-00185-000', 'BraTS-SSA-00186-000', 'BraTS-SSA-00187-000', 'BraTS-SSA-00192-000', 'BraTS-SSA-00193-000', 'BraTS-SSA-00197-000', 'BraTS-SSA-00200-000', 'BraTS-SSA-00203-000', 'BraTS-SSA-00204-000', 'BraTS-SSA-00205-000', 'BraTS-SSA-00206-000', 'BraTS-SSA-00207-000', 'BraTS-SSA-00208-000', 'BraTS-SSA-00209-000', 'BraTS-SSA-00210-000', 'BraTS-SSA-00211-000', 'BraTS-SSA-00213-000', 'BraTS-SSA-00220-000', 'BraTS-SSA-00222-000', 'BraTS-SSA-00224-000', 'BraTS-SSA-00226-000', 'BraTS-SSA-00227-000', 'BraTS-SSA-00228-000', 'BraTS-SSA-00229-000', 'BraTS-SSA-00231-000']\n",
      "Val ['BraTS-SSA-00002-000', 'BraTS-SSA-00044-000', 'BraTS-SSA-00050-000', 'BraTS-SSA-00057-000', 'BraTS-SSA-00068-000', 'BraTS-SSA-00093-000', 'BraTS-SSA-00123-000', 'BraTS-SSA-00174-000', 'BraTS-SSA-00182-000', 'BraTS-SSA-00188-000', 'BraTS-SSA-00191-000', 'BraTS-SSA-00196-000', 'BraTS-SSA-00215-000', 'BraTS-SSA-00223-000']\n",
      "Tsting ['BraTS-SSA-00009-000', 'BraTS-SSA-00014-000', 'BraTS-SSA-00018-000', 'BraTS-SSA-00037-000', 'BraTS-SSA-00045-000', 'BraTS-SSA-00049-000', 'BraTS-SSA-00055-000', 'BraTS-SSA-00062-000', 'BraTS-SSA-00073-000', 'BraTS-SSA-00091-000', 'BraTS-SSA-00097-000', 'BraTS-SSA-00115-000', 'BraTS-SSA-00122-000', 'BraTS-SSA-00130-000', 'BraTS-SSA-00132-000', 'BraTS-SSA-00148-000', 'BraTS-SSA-00163-000', 'BraTS-SSA-00168-000', 'BraTS-SSA-00170-000', 'BraTS-SSA-00171-000', 'BraTS-SSA-00179-000', 'BraTS-SSA-00181-000', 'BraTS-SSA-00190-000', 'BraTS-SSA-00198-000', 'BraTS-SSA-00201-000', 'BraTS-SSA-00202-000', 'BraTS-SSA-00216-000', 'BraTS-SSA-00218-000', 'BraTS-SSA-00221-000', 'BraTS-SSA-00225-000']\n",
      "Number of training samples 101\n",
      "Number of validation samples 14\n",
      "Number of testing samples 30\n",
      "------------------------------------------------\n"
     ]
    }
   ],
   "source": [
    "args = {\n",
    "    'workers': 2,\n",
    "    'epochs': 25,\n",
    "    'train_batch_size': 2,\n",
    "    'val_batch_size': 2,\n",
    "    'test_batch_size': 3,\n",
    "    'learning_rate': 1e-3,\n",
    "    'weight_decay': 1e-5,\n",
    "    'data_dir': '/kaggle/input/bratsafrica24/',\n",
    "    'in_checkpoint_dir': Path('/kaggle/input/gliomateachernormalizednew/'),\n",
    "    'out_checkpoint_dir': Path('/kaggle/working/')\n",
    "}\n",
    "trainLoader, valLoader, testLoader = prepare_data_loaders(args)\n",
    "print(\"------------------------------------------------\")"
   ]
  },
  {
   "cell_type": "markdown",
   "id": "d4c6d7c4",
   "metadata": {},
   "source": [
    "## Pediatrics Data Split"
   ]
  },
  {
   "cell_type": "code",
   "execution_count": 16,
   "id": "32726c88",
   "metadata": {
    "execution": {
     "iopub.execute_input": "2025-03-24T11:11:31.574385Z",
     "iopub.status.busy": "2025-03-24T11:11:31.574013Z",
     "iopub.status.idle": "2025-03-24T11:11:31.604711Z",
     "shell.execute_reply": "2025-03-24T11:11:31.603504Z"
    },
    "papermill": {
     "duration": 0.041751,
     "end_time": "2025-03-24T11:11:31.606957",
     "exception": false,
     "start_time": "2025-03-24T11:11:31.565206",
     "status": "completed"
    },
    "tags": []
   },
   "outputs": [
    {
     "name": "stdout",
     "output_type": "stream",
     "text": [
      "Train ['BraTS-PED-00002-000', 'BraTS-PED-00004-000', 'BraTS-PED-00008-000', 'BraTS-PED-00009-000', 'BraTS-PED-00019-000', 'BraTS-PED-00020-000', 'BraTS-PED-00023-000', 'BraTS-PED-00024-000', 'BraTS-PED-00025-000', 'BraTS-PED-00036-000', 'BraTS-PED-00037-000', 'BraTS-PED-00039-000', 'BraTS-PED-00040-000', 'BraTS-PED-00041-000', 'BraTS-PED-00044-000', 'BraTS-PED-00046-000', 'BraTS-PED-00048-000', 'BraTS-PED-00050-000', 'BraTS-PED-00051-000', 'BraTS-PED-00055-000', 'BraTS-PED-00057-000', 'BraTS-PED-00060-000', 'BraTS-PED-00063-000', 'BraTS-PED-00064-000', 'BraTS-PED-00069-000', 'BraTS-PED-00070-000', 'BraTS-PED-00072-000', 'BraTS-PED-00078-000', 'BraTS-PED-00079-000', 'BraTS-PED-00080-000', 'BraTS-PED-00081-000', 'BraTS-PED-00082-000', 'BraTS-PED-00083-000', 'BraTS-PED-00085-000', 'BraTS-PED-00097-000', 'BraTS-PED-00098-000', 'BraTS-PED-00100-000', 'BraTS-PED-00101-000', 'BraTS-PED-00102-000', 'BraTS-PED-00103-000', 'BraTS-PED-00104-000', 'BraTS-PED-00105-000', 'BraTS-PED-00108-000', 'BraTS-PED-00109-000', 'BraTS-PED-00110-000', 'BraTS-PED-00111-000', 'BraTS-PED-00112-000', 'BraTS-PED-00113-000', 'BraTS-PED-00115-000', 'BraTS-PED-00117-000', 'BraTS-PED-00118-000', 'BraTS-PED-00119-000', 'BraTS-PED-00121-000', 'BraTS-PED-00122-000', 'BraTS-PED-00123-000', 'BraTS-PED-00124-000', 'BraTS-PED-00125-000', 'BraTS-PED-00127-000', 'BraTS-PED-00128-000', 'BraTS-PED-00131-000', 'BraTS-PED-00132-000', 'BraTS-PED-00134-000', 'BraTS-PED-00137-000', 'BraTS-PED-00138-000', 'BraTS-PED-00139-000', 'BraTS-PED-00143-000', 'BraTS-PED-00167-000', 'BraTS-PED-00170-000', 'BraTS-PED-00171-000']\n",
      "Val ['BraTS-PED-00003-000', 'BraTS-PED-00021-000', 'BraTS-PED-00047-000', 'BraTS-PED-00052-000', 'BraTS-PED-00067-000', 'BraTS-PED-00096-000', 'BraTS-PED-00099-000', 'BraTS-PED-00129-000', 'BraTS-PED-00133-000']\n",
      "Tsting ['BraTS-PED-00006-000', 'BraTS-PED-00010-000', 'BraTS-PED-00026-000', 'BraTS-PED-00032-000', 'BraTS-PED-00042-000', 'BraTS-PED-00061-000', 'BraTS-PED-00062-000', 'BraTS-PED-00084-000', 'BraTS-PED-00086-000', 'BraTS-PED-00087-000', 'BraTS-PED-00106-000', 'BraTS-PED-00107-000', 'BraTS-PED-00114-000', 'BraTS-PED-00116-000', 'BraTS-PED-00120-000', 'BraTS-PED-00126-000', 'BraTS-PED-00130-000', 'BraTS-PED-00135-000', 'BraTS-PED-00136-000', 'BraTS-PED-00140-000', 'BraTS-PED-00142-000']\n",
      "Number of training samples 69\n",
      "Number of validation samples 9\n",
      "Number of testing samples 21\n",
      "------------------------------------------------\n"
     ]
    }
   ],
   "source": [
    "args = {\n",
    "    'workers': 2,\n",
    "    'epochs': 25,\n",
    "    'train_batch_size': 2,\n",
    "    'val_batch_size': 2,\n",
    "    'test_batch_size': 3,\n",
    "    'learning_rate': 1e-3,\n",
    "    'weight_decay': 1e-5,\n",
    "    'data_dir': '/kaggle/input/bratsped/Training/',\n",
    "    'in_checkpoint_dir': Path('/kaggle/input/gliomateachernormalizednew/'),\n",
    "    'out_checkpoint_dir': Path('/kaggle/working/')\n",
    "}\n",
    "trainLoader, valLoader, testLoader = prepare_data_loaders(args)\n",
    "print(\"------------------------------------------------\")"
   ]
  },
  {
   "cell_type": "markdown",
   "id": "3bfa33a5",
   "metadata": {},
   "source": [
    "## Meningioma Data Split"
   ]
  },
  {
   "cell_type": "code",
   "execution_count": 17,
   "id": "7ffa7106",
   "metadata": {
    "execution": {
     "iopub.execute_input": "2025-03-24T11:11:31.624348Z",
     "iopub.status.busy": "2025-03-24T11:11:31.623964Z",
     "iopub.status.idle": "2025-03-24T11:11:31.700482Z",
     "shell.execute_reply": "2025-03-24T11:11:31.699404Z"
    },
    "papermill": {
     "duration": 0.088185,
     "end_time": "2025-03-24T11:11:31.703182",
     "exception": false,
     "start_time": "2025-03-24T11:11:31.614997",
     "status": "completed"
    },
    "tags": []
   },
   "outputs": [
    {
     "name": "stdout",
     "output_type": "stream",
     "text": [
      "Train ['BraTS-MEN-00004-000', 'BraTS-MEN-00010-000', 'BraTS-MEN-00016-000', 'BraTS-MEN-00018-000', 'BraTS-MEN-00020-000', 'BraTS-MEN-00021-000', 'BraTS-MEN-00023-000', 'BraTS-MEN-00025-000', 'BraTS-MEN-00027-000', 'BraTS-MEN-00028-000', 'BraTS-MEN-00031-000', 'BraTS-MEN-00032-000', 'BraTS-MEN-00034-000', 'BraTS-MEN-00037-000', 'BraTS-MEN-00040-000', 'BraTS-MEN-00043-000', 'BraTS-MEN-00045-000', 'BraTS-MEN-00047-000', 'BraTS-MEN-00048-000', 'BraTS-MEN-00052-000', 'BraTS-MEN-00054-000', 'BraTS-MEN-00056-000', 'BraTS-MEN-00060-000', 'BraTS-MEN-00062-000', 'BraTS-MEN-00066-000', 'BraTS-MEN-00067-000', 'BraTS-MEN-00069-000', 'BraTS-MEN-00070-000', 'BraTS-MEN-00071-000', 'BraTS-MEN-00073-000', 'BraTS-MEN-00074-000', 'BraTS-MEN-00074-003', 'BraTS-MEN-00074-004', 'BraTS-MEN-00074-006', 'BraTS-MEN-00074-008', 'BraTS-MEN-00074-009', 'BraTS-MEN-00075-000', 'BraTS-MEN-00077-000', 'BraTS-MEN-00078-000', 'BraTS-MEN-00081-000', 'BraTS-MEN-00085-000', 'BraTS-MEN-00087-000', 'BraTS-MEN-00088-000', 'BraTS-MEN-00090-000', 'BraTS-MEN-00094-000', 'BraTS-MEN-00102-000', 'BraTS-MEN-00103-000', 'BraTS-MEN-00104-000', 'BraTS-MEN-00105-000', 'BraTS-MEN-00106-000', 'BraTS-MEN-00108-005', 'BraTS-MEN-00109-000', 'BraTS-MEN-00110-000', 'BraTS-MEN-00111-000', 'BraTS-MEN-00112-000', 'BraTS-MEN-00113-000', 'BraTS-MEN-00119-000', 'BraTS-MEN-00123-000', 'BraTS-MEN-00125-000', 'BraTS-MEN-00129-000', 'BraTS-MEN-00131-000', 'BraTS-MEN-00132-000', 'BraTS-MEN-00133-000', 'BraTS-MEN-00136-000', 'BraTS-MEN-00138-000', 'BraTS-MEN-00141-000', 'BraTS-MEN-00147-000', 'BraTS-MEN-00150-000', 'BraTS-MEN-00152-000', 'BraTS-MEN-00153-000', 'BraTS-MEN-00154-000', 'BraTS-MEN-00155-000', 'BraTS-MEN-00156-000', 'BraTS-MEN-00157-000', 'BraTS-MEN-00159-000', 'BraTS-MEN-00163-000', 'BraTS-MEN-00164-000', 'BraTS-MEN-00165-000', 'BraTS-MEN-00166-000', 'BraTS-MEN-00169-000', 'BraTS-MEN-00170-000', 'BraTS-MEN-00172-000', 'BraTS-MEN-00173-000', 'BraTS-MEN-00175-000', 'BraTS-MEN-00176-000', 'BraTS-MEN-00177-000', 'BraTS-MEN-00178-000', 'BraTS-MEN-00179-000', 'BraTS-MEN-00183-000', 'BraTS-MEN-00187-000', 'BraTS-MEN-00191-000', 'BraTS-MEN-00192-000', 'BraTS-MEN-00194-000', 'BraTS-MEN-00195-000', 'BraTS-MEN-00196-000', 'BraTS-MEN-00199-000', 'BraTS-MEN-00200-000', 'BraTS-MEN-00202-000', 'BraTS-MEN-00206-000', 'BraTS-MEN-00208-000', 'BraTS-MEN-00209-000', 'BraTS-MEN-00210-000', 'BraTS-MEN-00212-000', 'BraTS-MEN-00213-000', 'BraTS-MEN-00215-000', 'BraTS-MEN-00217-000', 'BraTS-MEN-00221-000', 'BraTS-MEN-00223-000', 'BraTS-MEN-00224-000', 'BraTS-MEN-00230-000', 'BraTS-MEN-00231-000', 'BraTS-MEN-00232-000', 'BraTS-MEN-00233-000', 'BraTS-MEN-00235-000', 'BraTS-MEN-00236-000', 'BraTS-MEN-00237-000', 'BraTS-MEN-00239-000', 'BraTS-MEN-00243-000', 'BraTS-MEN-00245-000', 'BraTS-MEN-00247-000', 'BraTS-MEN-00253-000', 'BraTS-MEN-00255-000', 'BraTS-MEN-00259-000', 'BraTS-MEN-00266-000', 'BraTS-MEN-00269-000', 'BraTS-MEN-00270-000', 'BraTS-MEN-00271-000', 'BraTS-MEN-00288-000', 'BraTS-MEN-00289-000', 'BraTS-MEN-00293-000', 'BraTS-MEN-00298-000', 'BraTS-MEN-00299-000', 'BraTS-MEN-00302-000', 'BraTS-MEN-00303-000', 'BraTS-MEN-00304-000', 'BraTS-MEN-00305-000', 'BraTS-MEN-00306-000', 'BraTS-MEN-00307-000', 'BraTS-MEN-00308-000', 'BraTS-MEN-00311-000', 'BraTS-MEN-00313-000', 'BraTS-MEN-00318-000', 'BraTS-MEN-00319-000', 'BraTS-MEN-00320-000', 'BraTS-MEN-00321-000', 'BraTS-MEN-00322-000', 'BraTS-MEN-00326-000', 'BraTS-MEN-00327-000', 'BraTS-MEN-00335-000', 'BraTS-MEN-00336-000', 'BraTS-MEN-00338-000', 'BraTS-MEN-00341-000', 'BraTS-MEN-00342-000', 'BraTS-MEN-00346-000', 'BraTS-MEN-00349-000', 'BraTS-MEN-00350-000', 'BraTS-MEN-00351-000', 'BraTS-MEN-00352-000', 'BraTS-MEN-00353-000', 'BraTS-MEN-00354-000', 'BraTS-MEN-00356-000', 'BraTS-MEN-00357-000', 'BraTS-MEN-00358-000', 'BraTS-MEN-00359-000', 'BraTS-MEN-00362-000', 'BraTS-MEN-00363-000', 'BraTS-MEN-00364-000', 'BraTS-MEN-00366-000', 'BraTS-MEN-00367-000', 'BraTS-MEN-00369-000', 'BraTS-MEN-00370-000', 'BraTS-MEN-00371-000', 'BraTS-MEN-00372-000', 'BraTS-MEN-00375-000', 'BraTS-MEN-00379-000', 'BraTS-MEN-00380-000', 'BraTS-MEN-00381-000', 'BraTS-MEN-00382-000', 'BraTS-MEN-00383-000', 'BraTS-MEN-00385-000', 'BraTS-MEN-00387-000', 'BraTS-MEN-00390-000', 'BraTS-MEN-00393-000', 'BraTS-MEN-00398-000', 'BraTS-MEN-00399-000', 'BraTS-MEN-00400-000', 'BraTS-MEN-00401-000', 'BraTS-MEN-00404-000', 'BraTS-MEN-00405-000', 'BraTS-MEN-00406-000', 'BraTS-MEN-00408-000', 'BraTS-MEN-00409-000', 'BraTS-MEN-00410-000', 'BraTS-MEN-00412-000', 'BraTS-MEN-00416-000', 'BraTS-MEN-00417-000', 'BraTS-MEN-00418-000', 'BraTS-MEN-00419-000', 'BraTS-MEN-00420-000', 'BraTS-MEN-00421-000', 'BraTS-MEN-00424-000', 'BraTS-MEN-00426-000', 'BraTS-MEN-00429-000', 'BraTS-MEN-00431-000', 'BraTS-MEN-00433-000', 'BraTS-MEN-00437-000', 'BraTS-MEN-00440-000', 'BraTS-MEN-00441-000', 'BraTS-MEN-00443-000', 'BraTS-MEN-00444-000', 'BraTS-MEN-00445-000', 'BraTS-MEN-00455-000', 'BraTS-MEN-00459-000', 'BraTS-MEN-00466-000', 'BraTS-MEN-00467-000', 'BraTS-MEN-00470-000', 'BraTS-MEN-00471-000', 'BraTS-MEN-00474-000', 'BraTS-MEN-00475-000', 'BraTS-MEN-00476-000', 'BraTS-MEN-00478-000', 'BraTS-MEN-00482-000', 'BraTS-MEN-00484-000', 'BraTS-MEN-00490-000', 'BraTS-MEN-00492-000', 'BraTS-MEN-00495-000', 'BraTS-MEN-00501-000', 'BraTS-MEN-00502-000', 'BraTS-MEN-00503-000', 'BraTS-MEN-00504-000', 'BraTS-MEN-00505-000', 'BraTS-MEN-00506-000', 'BraTS-MEN-00508-000', 'BraTS-MEN-00510-000', 'BraTS-MEN-00511-000', 'BraTS-MEN-00512-000', 'BraTS-MEN-00514-000', 'BraTS-MEN-00515-000', 'BraTS-MEN-00517-000', 'BraTS-MEN-00518-000', 'BraTS-MEN-00521-000', 'BraTS-MEN-00523-000', 'BraTS-MEN-00524-000', 'BraTS-MEN-00527-000', 'BraTS-MEN-00530-000', 'BraTS-MEN-00532-000', 'BraTS-MEN-00533-000', 'BraTS-MEN-00540-000', 'BraTS-MEN-00541-000', 'BraTS-MEN-00544-000', 'BraTS-MEN-00547-000', 'BraTS-MEN-00548-000', 'BraTS-MEN-00549-000', 'BraTS-MEN-00551-000', 'BraTS-MEN-00558-000', 'BraTS-MEN-00571-000', 'BraTS-MEN-00573-000', 'BraTS-MEN-00574-000', 'BraTS-MEN-00575-000', 'BraTS-MEN-00576-006', 'BraTS-MEN-00576-007', 'BraTS-MEN-00576-009', 'BraTS-MEN-00580-000', 'BraTS-MEN-00583-000', 'BraTS-MEN-00587-000', 'BraTS-MEN-00588-000', 'BraTS-MEN-00590-000', 'BraTS-MEN-00594-000', 'BraTS-MEN-00596-000', 'BraTS-MEN-00596-001', 'BraTS-MEN-00598-000', 'BraTS-MEN-00601-000', 'BraTS-MEN-00602-000', 'BraTS-MEN-00603-000', 'BraTS-MEN-00604-000', 'BraTS-MEN-00606-000', 'BraTS-MEN-00607-000', 'BraTS-MEN-00608-000', 'BraTS-MEN-00609-000', 'BraTS-MEN-00610-000', 'BraTS-MEN-00611-000', 'BraTS-MEN-00612-000', 'BraTS-MEN-00613-000', 'BraTS-MEN-00614-000', 'BraTS-MEN-00615-000', 'BraTS-MEN-00618-000', 'BraTS-MEN-00620-000', 'BraTS-MEN-00623-000', 'BraTS-MEN-00625-000', 'BraTS-MEN-00626-000', 'BraTS-MEN-00627-000', 'BraTS-MEN-00630-000', 'BraTS-MEN-00632-000', 'BraTS-MEN-00634-000', 'BraTS-MEN-00638-000', 'BraTS-MEN-00639-000', 'BraTS-MEN-00640-000', 'BraTS-MEN-00641-000', 'BraTS-MEN-00643-000', 'BraTS-MEN-00644-000', 'BraTS-MEN-00645-000', 'BraTS-MEN-00646-000', 'BraTS-MEN-00648-000', 'BraTS-MEN-00650-000', 'BraTS-MEN-00653-000', 'BraTS-MEN-00658-000', 'BraTS-MEN-00659-000', 'BraTS-MEN-00662-000', 'BraTS-MEN-00663-000', 'BraTS-MEN-00664-000', 'BraTS-MEN-00665-000', 'BraTS-MEN-00666-000', 'BraTS-MEN-00667-000', 'BraTS-MEN-00668-000', 'BraTS-MEN-00669-000', 'BraTS-MEN-00671-000', 'BraTS-MEN-00672-000', 'BraTS-MEN-00673-000', 'BraTS-MEN-00674-000', 'BraTS-MEN-00677-000', 'BraTS-MEN-00681-000', 'BraTS-MEN-00684-000', 'BraTS-MEN-00686-000', 'BraTS-MEN-00687-000', 'BraTS-MEN-00688-000', 'BraTS-MEN-00689-000', 'BraTS-MEN-00690-000', 'BraTS-MEN-00691-000', 'BraTS-MEN-00697-000', 'BraTS-MEN-00702-000', 'BraTS-MEN-00703-000', 'BraTS-MEN-00704-000', 'BraTS-MEN-00708-000', 'BraTS-MEN-00711-000', 'BraTS-MEN-00713-000', 'BraTS-MEN-00714-000', 'BraTS-MEN-00717-005', 'BraTS-MEN-00717-007', 'BraTS-MEN-00717-009', 'BraTS-MEN-00717-010', 'BraTS-MEN-00719-000', 'BraTS-MEN-00721-000', 'BraTS-MEN-00725-000', 'BraTS-MEN-00726-000', 'BraTS-MEN-00728-000', 'BraTS-MEN-00730-000', 'BraTS-MEN-00734-000', 'BraTS-MEN-00735-000', 'BraTS-MEN-00737-000', 'BraTS-MEN-00738-000', 'BraTS-MEN-00739-000', 'BraTS-MEN-00744-000', 'BraTS-MEN-00746-000', 'BraTS-MEN-00747-000', 'BraTS-MEN-00748-000', 'BraTS-MEN-00750-000', 'BraTS-MEN-00751-000', 'BraTS-MEN-00752-000', 'BraTS-MEN-00754-000', 'BraTS-MEN-00755-000', 'BraTS-MEN-00757-000', 'BraTS-MEN-00762-000', 'BraTS-MEN-00764-000', 'BraTS-MEN-00765-000', 'BraTS-MEN-00768-000', 'BraTS-MEN-00770-000', 'BraTS-MEN-00771-000', 'BraTS-MEN-00773-000', 'BraTS-MEN-00774-000', 'BraTS-MEN-00777-000', 'BraTS-MEN-00779-000', 'BraTS-MEN-00780-000', 'BraTS-MEN-00781-005', 'BraTS-MEN-00781-008', 'BraTS-MEN-00781-010', 'BraTS-MEN-00786-000', 'BraTS-MEN-00787-000', 'BraTS-MEN-00788-000', 'BraTS-MEN-00789-000', 'BraTS-MEN-00790-000', 'BraTS-MEN-00794-000', 'BraTS-MEN-00795-000', 'BraTS-MEN-00797-000', 'BraTS-MEN-00804-000', 'BraTS-MEN-00807-000', 'BraTS-MEN-00811-000', 'BraTS-MEN-00813-000', 'BraTS-MEN-00817-000', 'BraTS-MEN-00818-000', 'BraTS-MEN-00819-000', 'BraTS-MEN-00820-000', 'BraTS-MEN-00821-000', 'BraTS-MEN-00823-000', 'BraTS-MEN-00824-000', 'BraTS-MEN-00826-000', 'BraTS-MEN-00828-000', 'BraTS-MEN-00829-000', 'BraTS-MEN-00831-000', 'BraTS-MEN-00833-000', 'BraTS-MEN-00835-000', 'BraTS-MEN-00837-000', 'BraTS-MEN-00840-000', 'BraTS-MEN-00841-000', 'BraTS-MEN-00842-000', 'BraTS-MEN-00843-000', 'BraTS-MEN-00844-000', 'BraTS-MEN-00846-000', 'BraTS-MEN-00851-000', 'BraTS-MEN-00852-000', 'BraTS-MEN-00854-000', 'BraTS-MEN-00857-000', 'BraTS-MEN-00859-000', 'BraTS-MEN-00868-000', 'BraTS-MEN-00873-000', 'BraTS-MEN-00875-000', 'BraTS-MEN-00876-000', 'BraTS-MEN-00877-000', 'BraTS-MEN-00880-000', 'BraTS-MEN-00884-000', 'BraTS-MEN-00885-000', 'BraTS-MEN-00886-000', 'BraTS-MEN-00887-000', 'BraTS-MEN-00890-000', 'BraTS-MEN-00894-000', 'BraTS-MEN-00895-000', 'BraTS-MEN-00896-000', 'BraTS-MEN-00897-000', 'BraTS-MEN-00899-000', 'BraTS-MEN-00903-000', 'BraTS-MEN-00904-000', 'BraTS-MEN-00905-000', 'BraTS-MEN-00906-000', 'BraTS-MEN-00907-000', 'BraTS-MEN-00909-000', 'BraTS-MEN-00910-000', 'BraTS-MEN-00913-000', 'BraTS-MEN-00916-000', 'BraTS-MEN-00918-000', 'BraTS-MEN-00920-000', 'BraTS-MEN-00921-000', 'BraTS-MEN-00924-000', 'BraTS-MEN-00925-000', 'BraTS-MEN-00929-000', 'BraTS-MEN-00932-004', 'BraTS-MEN-00932-008', 'BraTS-MEN-00932-009', 'BraTS-MEN-00935-000', 'BraTS-MEN-00936-000', 'BraTS-MEN-00940-000', 'BraTS-MEN-00941-000', 'BraTS-MEN-00942-000', 'BraTS-MEN-00945-000', 'BraTS-MEN-00946-000', 'BraTS-MEN-00948-000', 'BraTS-MEN-00950-000', 'BraTS-MEN-00951-000', 'BraTS-MEN-00954-000', 'BraTS-MEN-00955-000', 'BraTS-MEN-00959-000', 'BraTS-MEN-00960-000', 'BraTS-MEN-00963-000', 'BraTS-MEN-00970-000', 'BraTS-MEN-00971-000', 'BraTS-MEN-00973-000', 'BraTS-MEN-00974-000', 'BraTS-MEN-00977-000', 'BraTS-MEN-00981-000', 'BraTS-MEN-00982-000', 'BraTS-MEN-00983-006', 'BraTS-MEN-00983-007', 'BraTS-MEN-00983-008', 'BraTS-MEN-00983-009', 'BraTS-MEN-00984-000', 'BraTS-MEN-00985-000', 'BraTS-MEN-00987-000', 'BraTS-MEN-00989-000', 'BraTS-MEN-00991-000', 'BraTS-MEN-00997-000', 'BraTS-MEN-00999-001', 'BraTS-MEN-01000-000', 'BraTS-MEN-01001-000', 'BraTS-MEN-01002-000', 'BraTS-MEN-01003-008', 'BraTS-MEN-01003-009', 'BraTS-MEN-01003-010', 'BraTS-MEN-01005-000', 'BraTS-MEN-01006-000', 'BraTS-MEN-01007-000', 'BraTS-MEN-01008-009', 'BraTS-MEN-01008-011', 'BraTS-MEN-01010-000', 'BraTS-MEN-01014-000', 'BraTS-MEN-01015-000', 'BraTS-MEN-01016-000', 'BraTS-MEN-01018-000', 'BraTS-MEN-01021-000', 'BraTS-MEN-01026-000', 'BraTS-MEN-01028-000', 'BraTS-MEN-01029-000', 'BraTS-MEN-01030-000', 'BraTS-MEN-01032-000', 'BraTS-MEN-01034-000', 'BraTS-MEN-01035-000', 'BraTS-MEN-01038-000', 'BraTS-MEN-01039-000', 'BraTS-MEN-01040-000', 'BraTS-MEN-01041-000', 'BraTS-MEN-01042-000', 'BraTS-MEN-01044-000', 'BraTS-MEN-01047-000', 'BraTS-MEN-01050-000', 'BraTS-MEN-01051-000', 'BraTS-MEN-01052-000', 'BraTS-MEN-01055-000', 'BraTS-MEN-01058-000', 'BraTS-MEN-01059-000', 'BraTS-MEN-01060-000', 'BraTS-MEN-01061-000', 'BraTS-MEN-01062-000', 'BraTS-MEN-01063-000', 'BraTS-MEN-01065-000', 'BraTS-MEN-01070-000', 'BraTS-MEN-01071-000', 'BraTS-MEN-01073-000', 'BraTS-MEN-01074-000', 'BraTS-MEN-01075-000', 'BraTS-MEN-01076-000', 'BraTS-MEN-01077-000', 'BraTS-MEN-01081-000', 'BraTS-MEN-01083-000', 'BraTS-MEN-01085-000', 'BraTS-MEN-01087-000', 'BraTS-MEN-01088-000', 'BraTS-MEN-01089-000', 'BraTS-MEN-01093-000', 'BraTS-MEN-01094-000', 'BraTS-MEN-01095-000', 'BraTS-MEN-01096-000', 'BraTS-MEN-01099-000', 'BraTS-MEN-01101-000', 'BraTS-MEN-01102-000', 'BraTS-MEN-01103-000', 'BraTS-MEN-01104-000', 'BraTS-MEN-01107-000', 'BraTS-MEN-01112-000', 'BraTS-MEN-01113-000', 'BraTS-MEN-01114-000', 'BraTS-MEN-01117-000', 'BraTS-MEN-01118-000', 'BraTS-MEN-01119-000', 'BraTS-MEN-01122-000', 'BraTS-MEN-01123-000', 'BraTS-MEN-01124-000', 'BraTS-MEN-01127-000', 'BraTS-MEN-01129-000', 'BraTS-MEN-01130-000', 'BraTS-MEN-01132-000', 'BraTS-MEN-01134-000', 'BraTS-MEN-01136-000', 'BraTS-MEN-01137-000', 'BraTS-MEN-01138-000', 'BraTS-MEN-01140-000', 'BraTS-MEN-01141-000', 'BraTS-MEN-01147-000', 'BraTS-MEN-01148-000', 'BraTS-MEN-01151-000', 'BraTS-MEN-01152-000', 'BraTS-MEN-01153-000', 'BraTS-MEN-01154-000', 'BraTS-MEN-01155-000', 'BraTS-MEN-01157-000', 'BraTS-MEN-01161-000', 'BraTS-MEN-01163-000', 'BraTS-MEN-01164-000', 'BraTS-MEN-01165-000', 'BraTS-MEN-01166-000', 'BraTS-MEN-01167-000', 'BraTS-MEN-01168-000', 'BraTS-MEN-01169-000', 'BraTS-MEN-01170-000', 'BraTS-MEN-01171-000', 'BraTS-MEN-01172-000', 'BraTS-MEN-01179-000', 'BraTS-MEN-01183-000', 'BraTS-MEN-01184-000', 'BraTS-MEN-01192-000', 'BraTS-MEN-01194-000', 'BraTS-MEN-01198-004', 'BraTS-MEN-01198-007', 'BraTS-MEN-01198-011', 'BraTS-MEN-01198-013', 'BraTS-MEN-01199-000', 'BraTS-MEN-01200-000', 'BraTS-MEN-01203-000', 'BraTS-MEN-01205-000', 'BraTS-MEN-01206-000', 'BraTS-MEN-01208-000', 'BraTS-MEN-01214-000', 'BraTS-MEN-01215-000', 'BraTS-MEN-01216-000', 'BraTS-MEN-01218-000', 'BraTS-MEN-01220-000', 'BraTS-MEN-01221-000', 'BraTS-MEN-01225-000', 'BraTS-MEN-01229-000', 'BraTS-MEN-01233-000', 'BraTS-MEN-01237-000', 'BraTS-MEN-01240-000', 'BraTS-MEN-01241-000', 'BraTS-MEN-01242-000', 'BraTS-MEN-01246-001', 'BraTS-MEN-01246-002', 'BraTS-MEN-01246-003', 'BraTS-MEN-01247-000', 'BraTS-MEN-01250-000', 'BraTS-MEN-01252-000', 'BraTS-MEN-01254-000', 'BraTS-MEN-01256-000', 'BraTS-MEN-01257-000', 'BraTS-MEN-01259-000', 'BraTS-MEN-01261-000', 'BraTS-MEN-01264-000', 'BraTS-MEN-01266-000', 'BraTS-MEN-01268-000', 'BraTS-MEN-01271-000', 'BraTS-MEN-01275-000', 'BraTS-MEN-01278-000', 'BraTS-MEN-01279-010', 'BraTS-MEN-01280-000', 'BraTS-MEN-01283-000', 'BraTS-MEN-01284-000', 'BraTS-MEN-01285-000', 'BraTS-MEN-01290-000', 'BraTS-MEN-01294-000', 'BraTS-MEN-01298-000', 'BraTS-MEN-01300-000', 'BraTS-MEN-01305-000', 'BraTS-MEN-01306-000', 'BraTS-MEN-01307-000', 'BraTS-MEN-01308-000', 'BraTS-MEN-01309-000', 'BraTS-MEN-01312-000', 'BraTS-MEN-01314-000', 'BraTS-MEN-01315-000', 'BraTS-MEN-01316-000', 'BraTS-MEN-01320-000', 'BraTS-MEN-01323-000', 'BraTS-MEN-01326-000', 'BraTS-MEN-01327-000', 'BraTS-MEN-01329-000', 'BraTS-MEN-01333-000', 'BraTS-MEN-01334-000', 'BraTS-MEN-01335-000', 'BraTS-MEN-01338-000', 'BraTS-MEN-01339-000', 'BraTS-MEN-01342-000', 'BraTS-MEN-01348-000', 'BraTS-MEN-01350-000', 'BraTS-MEN-01351-000', 'BraTS-MEN-01354-000', 'BraTS-MEN-01355-000', 'BraTS-MEN-01357-000', 'BraTS-MEN-01360-000', 'BraTS-MEN-01362-000', 'BraTS-MEN-01363-000', 'BraTS-MEN-01366-000', 'BraTS-MEN-01367-000', 'BraTS-MEN-01370-000', 'BraTS-MEN-01371-000', 'BraTS-MEN-01375-000', 'BraTS-MEN-01380-000', 'BraTS-MEN-01383-000', 'BraTS-MEN-01383-006', 'BraTS-MEN-01383-007', 'BraTS-MEN-01383-010', 'BraTS-MEN-01384-000', 'BraTS-MEN-01385-000', 'BraTS-MEN-01388-000', 'BraTS-MEN-01389-000', 'BraTS-MEN-01390-000', 'BraTS-MEN-01392-000', 'BraTS-MEN-01396-000', 'BraTS-MEN-01399-000', 'BraTS-MEN-01401-000', 'BraTS-MEN-01403-000', 'BraTS-MEN-01407-000', 'BraTS-MEN-01408-000', 'BraTS-MEN-01409-000', 'BraTS-MEN-01411-000', 'BraTS-MEN-01416-000', 'BraTS-MEN-01419-000', 'BraTS-MEN-01420-000', 'BraTS-MEN-01421-000', 'BraTS-MEN-01423-000', 'BraTS-MEN-01424-000', 'BraTS-MEN-01426-000', 'BraTS-MEN-01433-000', 'BraTS-MEN-01434-000', 'BraTS-MEN-01435-000', 'BraTS-MEN-01435-001']\n",
      "Val ['BraTS-MEN-00024-000', 'BraTS-MEN-00061-000', 'BraTS-MEN-00086-000', 'BraTS-MEN-00093-000', 'BraTS-MEN-00140-000', 'BraTS-MEN-00167-000', 'BraTS-MEN-00219-000', 'BraTS-MEN-00220-000', 'BraTS-MEN-00226-000', 'BraTS-MEN-00260-000', 'BraTS-MEN-00263-000', 'BraTS-MEN-00267-000', 'BraTS-MEN-00268-000', 'BraTS-MEN-00279-000', 'BraTS-MEN-00281-000', 'BraTS-MEN-00284-000', 'BraTS-MEN-00415-000', 'BraTS-MEN-00423-000', 'BraTS-MEN-00425-000', 'BraTS-MEN-00435-000', 'BraTS-MEN-00438-000', 'BraTS-MEN-00446-000', 'BraTS-MEN-00457-000', 'BraTS-MEN-00461-000', 'BraTS-MEN-00462-000', 'BraTS-MEN-00498-000', 'BraTS-MEN-00509-000', 'BraTS-MEN-00535-000', 'BraTS-MEN-00542-000', 'BraTS-MEN-00545-000', 'BraTS-MEN-00553-000', 'BraTS-MEN-00554-000', 'BraTS-MEN-00561-000', 'BraTS-MEN-00563-000', 'BraTS-MEN-00564-000', 'BraTS-MEN-00576-005', 'BraTS-MEN-00579-000', 'BraTS-MEN-00622-000', 'BraTS-MEN-00628-000', 'BraTS-MEN-00631-000', 'BraTS-MEN-00636-000', 'BraTS-MEN-00656-000', 'BraTS-MEN-00676-000', 'BraTS-MEN-00683-000', 'BraTS-MEN-00696-000', 'BraTS-MEN-00706-000', 'BraTS-MEN-00712-000', 'BraTS-MEN-00717-003', 'BraTS-MEN-00717-006', 'BraTS-MEN-00720-000', 'BraTS-MEN-00722-000', 'BraTS-MEN-00729-000', 'BraTS-MEN-00741-000', 'BraTS-MEN-00743-001', 'BraTS-MEN-00745-000', 'BraTS-MEN-00763-000', 'BraTS-MEN-00766-000', 'BraTS-MEN-00772-000', 'BraTS-MEN-00781-009', 'BraTS-MEN-00808-000', 'BraTS-MEN-00809-000', 'BraTS-MEN-00825-000', 'BraTS-MEN-00861-000', 'BraTS-MEN-00879-000', 'BraTS-MEN-00922-000', 'BraTS-MEN-00927-000', 'BraTS-MEN-00932-007', 'BraTS-MEN-00932-010', 'BraTS-MEN-00957-000', 'BraTS-MEN-00962-000', 'BraTS-MEN-00965-000', 'BraTS-MEN-00983-010', 'BraTS-MEN-00990-000', 'BraTS-MEN-00993-000', 'BraTS-MEN-00996-000', 'BraTS-MEN-00999-000', 'BraTS-MEN-01008-012', 'BraTS-MEN-01017-000', 'BraTS-MEN-01046-000', 'BraTS-MEN-01048-000', 'BraTS-MEN-01066-000', 'BraTS-MEN-01105-000', 'BraTS-MEN-01121-000', 'BraTS-MEN-01143-000', 'BraTS-MEN-01173-000', 'BraTS-MEN-01176-000', 'BraTS-MEN-01178-000', 'BraTS-MEN-01181-000', 'BraTS-MEN-01185-000', 'BraTS-MEN-01198-008', 'BraTS-MEN-01281-000', 'BraTS-MEN-01302-000', 'BraTS-MEN-01322-000', 'BraTS-MEN-01331-000', 'BraTS-MEN-01340-000', 'BraTS-MEN-01345-000', 'BraTS-MEN-01382-000', 'BraTS-MEN-01404-000', 'BraTS-MEN-01422-000', 'BraTS-MEN-01432-000']\n",
      "Tsting ['BraTS-MEN-00008-000', 'BraTS-MEN-00012-000', 'BraTS-MEN-00017-000', 'BraTS-MEN-00022-000', 'BraTS-MEN-00026-000', 'BraTS-MEN-00033-000', 'BraTS-MEN-00041-000', 'BraTS-MEN-00042-000', 'BraTS-MEN-00053-000', 'BraTS-MEN-00057-000', 'BraTS-MEN-00059-000', 'BraTS-MEN-00065-000', 'BraTS-MEN-00074-005', 'BraTS-MEN-00074-007', 'BraTS-MEN-00076-000', 'BraTS-MEN-00083-000', 'BraTS-MEN-00084-000', 'BraTS-MEN-00096-000', 'BraTS-MEN-00101-000', 'BraTS-MEN-00108-004', 'BraTS-MEN-00114-000', 'BraTS-MEN-00122-000', 'BraTS-MEN-00144-000', 'BraTS-MEN-00146-000', 'BraTS-MEN-00161-000', 'BraTS-MEN-00168-000', 'BraTS-MEN-00174-000', 'BraTS-MEN-00181-000', 'BraTS-MEN-00198-000', 'BraTS-MEN-00204-000', 'BraTS-MEN-00207-000', 'BraTS-MEN-00216-000', 'BraTS-MEN-00225-000', 'BraTS-MEN-00227-000', 'BraTS-MEN-00229-000', 'BraTS-MEN-00238-000', 'BraTS-MEN-00244-000', 'BraTS-MEN-00246-000', 'BraTS-MEN-00256-000', 'BraTS-MEN-00258-000', 'BraTS-MEN-00276-000', 'BraTS-MEN-00278-000', 'BraTS-MEN-00285-000', 'BraTS-MEN-00286-000', 'BraTS-MEN-00290-000', 'BraTS-MEN-00312-000', 'BraTS-MEN-00315-000', 'BraTS-MEN-00324-000', 'BraTS-MEN-00330-000', 'BraTS-MEN-00332-000', 'BraTS-MEN-00334-000', 'BraTS-MEN-00344-000', 'BraTS-MEN-00345-000', 'BraTS-MEN-00378-000', 'BraTS-MEN-00388-000', 'BraTS-MEN-00389-000', 'BraTS-MEN-00396-000', 'BraTS-MEN-00397-000', 'BraTS-MEN-00402-000', 'BraTS-MEN-00403-000', 'BraTS-MEN-00414-000', 'BraTS-MEN-00428-000', 'BraTS-MEN-00434-000', 'BraTS-MEN-00451-000', 'BraTS-MEN-00465-000', 'BraTS-MEN-00468-000', 'BraTS-MEN-00472-000', 'BraTS-MEN-00481-000', 'BraTS-MEN-00487-000', 'BraTS-MEN-00488-000', 'BraTS-MEN-00491-000', 'BraTS-MEN-00493-000', 'BraTS-MEN-00496-000', 'BraTS-MEN-00497-000', 'BraTS-MEN-00516-000', 'BraTS-MEN-00520-000', 'BraTS-MEN-00525-000', 'BraTS-MEN-00529-000', 'BraTS-MEN-00534-000', 'BraTS-MEN-00552-000', 'BraTS-MEN-00555-000', 'BraTS-MEN-00557-000', 'BraTS-MEN-00559-000', 'BraTS-MEN-00562-000', 'BraTS-MEN-00566-000', 'BraTS-MEN-00572-000', 'BraTS-MEN-00576-000', 'BraTS-MEN-00578-000', 'BraTS-MEN-00584-000', 'BraTS-MEN-00589-000', 'BraTS-MEN-00599-000', 'BraTS-MEN-00616-000', 'BraTS-MEN-00619-000', 'BraTS-MEN-00621-000', 'BraTS-MEN-00629-000', 'BraTS-MEN-00633-000', 'BraTS-MEN-00637-000', 'BraTS-MEN-00655-000', 'BraTS-MEN-00670-000', 'BraTS-MEN-00682-000', 'BraTS-MEN-00685-000', 'BraTS-MEN-00693-000', 'BraTS-MEN-00698-000', 'BraTS-MEN-00705-000', 'BraTS-MEN-00709-000', 'BraTS-MEN-00717-008', 'BraTS-MEN-00717-012', 'BraTS-MEN-00731-000', 'BraTS-MEN-00758-000', 'BraTS-MEN-00759-000', 'BraTS-MEN-00776-000', 'BraTS-MEN-00781-007', 'BraTS-MEN-00782-000', 'BraTS-MEN-00792-000', 'BraTS-MEN-00798-000', 'BraTS-MEN-00805-000', 'BraTS-MEN-00810-000', 'BraTS-MEN-00832-000', 'BraTS-MEN-00848-000', 'BraTS-MEN-00858-000', 'BraTS-MEN-00878-000', 'BraTS-MEN-00883-000', 'BraTS-MEN-00889-000', 'BraTS-MEN-00891-000', 'BraTS-MEN-00898-000', 'BraTS-MEN-00902-000', 'BraTS-MEN-00911-000', 'BraTS-MEN-00923-000', 'BraTS-MEN-00930-000', 'BraTS-MEN-00932-003', 'BraTS-MEN-00932-005', 'BraTS-MEN-00932-006', 'BraTS-MEN-00947-000', 'BraTS-MEN-00964-000', 'BraTS-MEN-00966-000', 'BraTS-MEN-00967-000', 'BraTS-MEN-01003-007', 'BraTS-MEN-01008-010', 'BraTS-MEN-01009-000', 'BraTS-MEN-01012-000', 'BraTS-MEN-01020-000', 'BraTS-MEN-01031-000', 'BraTS-MEN-01033-000', 'BraTS-MEN-01036-000', 'BraTS-MEN-01053-000', 'BraTS-MEN-01054-000', 'BraTS-MEN-01067-000', 'BraTS-MEN-01069-000', 'BraTS-MEN-01078-000', 'BraTS-MEN-01079-000', 'BraTS-MEN-01080-000', 'BraTS-MEN-01090-000', 'BraTS-MEN-01092-000', 'BraTS-MEN-01100-000', 'BraTS-MEN-01108-000', 'BraTS-MEN-01116-000', 'BraTS-MEN-01126-000', 'BraTS-MEN-01128-000', 'BraTS-MEN-01135-000', 'BraTS-MEN-01144-000', 'BraTS-MEN-01156-000', 'BraTS-MEN-01158-000', 'BraTS-MEN-01159-000', 'BraTS-MEN-01187-000', 'BraTS-MEN-01189-000', 'BraTS-MEN-01191-000', 'BraTS-MEN-01202-000', 'BraTS-MEN-01222-000', 'BraTS-MEN-01224-000', 'BraTS-MEN-01226-000', 'BraTS-MEN-01231-000', 'BraTS-MEN-01234-000', 'BraTS-MEN-01235-000', 'BraTS-MEN-01272-000', 'BraTS-MEN-01274-000', 'BraTS-MEN-01279-000', 'BraTS-MEN-01279-002', 'BraTS-MEN-01282-000', 'BraTS-MEN-01291-000', 'BraTS-MEN-01292-000', 'BraTS-MEN-01296-000', 'BraTS-MEN-01303-000', 'BraTS-MEN-01310-000', 'BraTS-MEN-01317-000', 'BraTS-MEN-01321-000', 'BraTS-MEN-01330-000', 'BraTS-MEN-01336-000', 'BraTS-MEN-01344-000', 'BraTS-MEN-01349-000', 'BraTS-MEN-01353-000', 'BraTS-MEN-01359-000', 'BraTS-MEN-01365-000', 'BraTS-MEN-01368-000', 'BraTS-MEN-01383-005', 'BraTS-MEN-01383-009', 'BraTS-MEN-01414-000', 'BraTS-MEN-01417-000', 'BraTS-MEN-01429-000', 'BraTS-MEN-01430-000', 'BraTS-MEN-01431-000']\n",
      "Number of training samples 700\n",
      "Number of validation samples 100\n",
      "Number of testing samples 200\n",
      "------------------------------------------------\n"
     ]
    }
   ],
   "source": [
    "args = {\n",
    "    'workers': 2,\n",
    "    'epochs': 25,\n",
    "    'train_batch_size': 2,\n",
    "    'val_batch_size': 2,\n",
    "    'test_batch_size': 3,\n",
    "    'learning_rate': 1e-3,\n",
    "    'weight_decay': 1e-5,\n",
    "    'data_dir': '/kaggle/input/bratsmen',\n",
    "    'in_checkpoint_dir': Path('/kaggle/input/gliomateachernormalizednew/'),\n",
    "    'out_checkpoint_dir': Path('/kaggle/working/')\n",
    "}\n",
    "trainLoader, valLoader, testLoader = prepare_data_loaders(args)\n",
    "print(\"------------------------------------------------\")"
   ]
  },
  {
   "cell_type": "markdown",
   "id": "29303626",
   "metadata": {},
   "source": [
    "## Metastatic Data Split"
   ]
  },
  {
   "cell_type": "code",
   "execution_count": 18,
   "id": "56be355b",
   "metadata": {
    "execution": {
     "iopub.execute_input": "2025-03-24T11:11:31.720194Z",
     "iopub.status.busy": "2025-03-24T11:11:31.719799Z",
     "iopub.status.idle": "2025-03-24T11:11:31.771944Z",
     "shell.execute_reply": "2025-03-24T11:11:31.770863Z"
    },
    "papermill": {
     "duration": 0.063131,
     "end_time": "2025-03-24T11:11:31.774304",
     "exception": false,
     "start_time": "2025-03-24T11:11:31.711173",
     "status": "completed"
    },
    "tags": []
   },
   "outputs": [
    {
     "name": "stdout",
     "output_type": "stream",
     "text": [
      "Train ['BraTS-MET-00004-000', 'BraTS-MET-00005-000', 'BraTS-MET-00006-000', 'BraTS-MET-00008-000', 'BraTS-MET-00009-000', 'BraTS-MET-00011-000', 'BraTS-MET-00013-000', 'BraTS-MET-00014-000', 'BraTS-MET-00016-000', 'BraTS-MET-00017-000', 'BraTS-MET-00018-000', 'BraTS-MET-00019-000', 'BraTS-MET-00020-000', 'BraTS-MET-00021-000', 'BraTS-MET-00022-000', 'BraTS-MET-00023-000', 'BraTS-MET-00024-000', 'BraTS-MET-00025-000', 'BraTS-MET-00026-000', 'BraTS-MET-00028-000', 'BraTS-MET-00029-000', 'BraTS-MET-00032-000', 'BraTS-MET-00033-000', 'BraTS-MET-00035-000', 'BraTS-MET-00036-000', 'BraTS-MET-00086-000', 'BraTS-MET-00089-000', 'BraTS-MET-00090-000', 'BraTS-MET-00096-000', 'BraTS-MET-00097-000', 'BraTS-MET-00098-000', 'BraTS-MET-00100-000', 'BraTS-MET-00102-000', 'BraTS-MET-00104-000', 'BraTS-MET-00106-000', 'BraTS-MET-00107-000', 'BraTS-MET-00108-000', 'BraTS-MET-00110-000', 'BraTS-MET-00112-000', 'BraTS-MET-00113-000', 'BraTS-MET-00114-000', 'BraTS-MET-00115-000', 'BraTS-MET-00117-000', 'BraTS-MET-00118-000', 'BraTS-MET-00119-000', 'BraTS-MET-00120-000', 'BraTS-MET-00122-000', 'BraTS-MET-00124-000', 'BraTS-MET-00125-000', 'BraTS-MET-00127-000', 'BraTS-MET-00128-000', 'BraTS-MET-00129-000', 'BraTS-MET-00131-000', 'BraTS-MET-00132-000', 'BraTS-MET-00135-000', 'BraTS-MET-00136-000', 'BraTS-MET-00137-000', 'BraTS-MET-00138-000', 'BraTS-MET-00139-000', 'BraTS-MET-00142-000', 'BraTS-MET-00143-000', 'BraTS-MET-00147-000', 'BraTS-MET-00148-000', 'BraTS-MET-00150-000', 'BraTS-MET-00152-000', 'BraTS-MET-00153-000', 'BraTS-MET-00156-000', 'BraTS-MET-00158-000', 'BraTS-MET-00159-000', 'BraTS-MET-00160-000', 'BraTS-MET-00163-000', 'BraTS-MET-00164-000', 'BraTS-MET-00166-000', 'BraTS-MET-00167-000', 'BraTS-MET-00170-000', 'BraTS-MET-00171-000', 'BraTS-MET-00173-000', 'BraTS-MET-00174-000', 'BraTS-MET-00175-000', 'BraTS-MET-00176-000', 'BraTS-MET-00178-000', 'BraTS-MET-00179-000', 'BraTS-MET-00181-000', 'BraTS-MET-00182-000', 'BraTS-MET-00183-000', 'BraTS-MET-00184-000', 'BraTS-MET-00185-000', 'BraTS-MET-00187-000', 'BraTS-MET-00188-000', 'BraTS-MET-00191-000', 'BraTS-MET-00192-000', 'BraTS-MET-00195-000', 'BraTS-MET-00196-000', 'BraTS-MET-00200-000', 'BraTS-MET-00201-000', 'BraTS-MET-00202-000', 'BraTS-MET-00203-000', 'BraTS-MET-00204-000', 'BraTS-MET-00205-000', 'BraTS-MET-00206-000', 'BraTS-MET-00208-000', 'BraTS-MET-00209-000', 'BraTS-MET-00210-000', 'BraTS-MET-00211-000', 'BraTS-MET-00213-000', 'BraTS-MET-00214-000', 'BraTS-MET-00215-000', 'BraTS-MET-00217-000', 'BraTS-MET-00220-000', 'BraTS-MET-00222-000', 'BraTS-MET-00227-000', 'BraTS-MET-00230-000', 'BraTS-MET-00231-000', 'BraTS-MET-00232-000', 'BraTS-MET-00233-000', 'BraTS-MET-00234-000', 'BraTS-MET-00235-000', 'BraTS-MET-00238-000', 'BraTS-MET-00239-000', 'BraTS-MET-00240-000', 'BraTS-MET-00242-000', 'BraTS-MET-00243-000', 'BraTS-MET-00244-000', 'BraTS-MET-00245-000', 'BraTS-MET-00247-000', 'BraTS-MET-00248-000', 'BraTS-MET-00250-000', 'BraTS-MET-00252-000', 'BraTS-MET-00256-000', 'BraTS-MET-00258-000', 'BraTS-MET-00260-000', 'BraTS-MET-00262-000', 'BraTS-MET-00263-000', 'BraTS-MET-00266-000', 'BraTS-MET-00267-000', 'BraTS-MET-00270-000', 'BraTS-MET-00272-000', 'BraTS-MET-00275-000', 'BraTS-MET-00276-000', 'BraTS-MET-00277-000', 'BraTS-MET-00278-000', 'BraTS-MET-00280-000', 'BraTS-MET-00281-000', 'BraTS-MET-00283-000', 'BraTS-MET-00286-000', 'BraTS-MET-00288-000', 'BraTS-MET-00290-000', 'BraTS-MET-00293-000', 'BraTS-MET-00294-000', 'BraTS-MET-00295-000', 'BraTS-MET-00296-000', 'BraTS-MET-00298-000', 'BraTS-MET-00299-000', 'BraTS-MET-00300-000', 'BraTS-MET-00301-000', 'BraTS-MET-00302-000', 'BraTS-MET-00303-000', 'BraTS-MET-00304-000', 'BraTS-MET-00307-000', 'BraTS-MET-00309-000', 'BraTS-MET-00310-000', 'BraTS-MET-00347-000', 'BraTS-MET-00348-000', 'BraTS-MET-00349-000', 'BraTS-MET-00350-000', 'BraTS-MET-00375-000', 'BraTS-MET-00382-000', 'BraTS-MET-00404-000', 'BraTS-MET-00406-000', 'BraTS-MET-00408-000', 'BraTS-MET-00409-000', 'BraTS-MET-00410-000', 'BraTS-MET-00411-000', 'BraTS-MET-00412-000', 'BraTS-MET-00413-000', 'BraTS-MET-00414-000', 'BraTS-MET-00415-000', 'BraTS-MET-00416-000', 'BraTS-MET-00417-000', 'BraTS-MET-00418-000', 'BraTS-MET-00507-000', 'BraTS-MET-00531-000', 'BraTS-MET-00533-000', 'BraTS-MET-00534-000', 'BraTS-MET-00535-000', 'BraTS-MET-00536-000', 'BraTS-MET-00538-000', 'BraTS-MET-00540-000', 'BraTS-MET-00542-000', 'BraTS-MET-00543-000', 'BraTS-MET-00544-000', 'BraTS-MET-00545-000', 'BraTS-MET-00547-000', 'BraTS-MET-00549-000', 'BraTS-MET-00550-000', 'BraTS-MET-00551-000', 'BraTS-MET-00776-000', 'BraTS-MET-00777-000', 'BraTS-MET-00778-000', 'BraTS-MET-00780-000', 'BraTS-MET-00782-000', 'BraTS-MET-00783-000', 'BraTS-MET-00785-000', 'BraTS-MET-00787-000', 'BraTS-MET-00788-000', 'BraTS-MET-00790-000', 'BraTS-MET-00791-000', 'BraTS-MET-00793-000', 'BraTS-MET-00794-000', 'BraTS-MET-00795-000', 'BraTS-MET-00796-000', 'BraTS-MET-00797-000', 'BraTS-MET-00800-000', 'BraTS-MET-00801-000', 'BraTS-MET-00803-000', 'BraTS-MET-00804-000', 'BraTS-MET-00807-000', 'BraTS-MET-00808-000', 'BraTS-MET-00809-000', 'BraTS-MET-00810-000', 'BraTS-MET-00811-000', 'BraTS-MET-00812-000', 'BraTS-MET-00814-000', 'BraTS-MET-00815-000', 'BraTS-MET-00817-000', 'BraTS-MET-00818-000', 'BraTS-MET-00819-000', 'BraTS-MET-00821-000', 'BraTS-MET-00822-000']\n",
      "Val ['BraTS-MET-00010-000', 'BraTS-MET-00031-000', 'BraTS-MET-00105-000', 'BraTS-MET-00109-000', 'BraTS-MET-00121-000', 'BraTS-MET-00149-000', 'BraTS-MET-00157-000', 'BraTS-MET-00177-000', 'BraTS-MET-00180-000', 'BraTS-MET-00194-000', 'BraTS-MET-00197-000', 'BraTS-MET-00224-000', 'BraTS-MET-00268-000', 'BraTS-MET-00273-000', 'BraTS-MET-00282-000', 'BraTS-MET-00285-000', 'BraTS-MET-00291-000', 'BraTS-MET-00292-000', 'BraTS-MET-00306-000', 'BraTS-MET-00376-000', 'BraTS-MET-00379-000', 'BraTS-MET-00405-000', 'BraTS-MET-00529-000', 'BraTS-MET-00530-000', 'BraTS-MET-00532-000', 'BraTS-MET-00539-000', 'BraTS-MET-00552-000', 'BraTS-MET-00779-000', 'BraTS-MET-00784-000', 'BraTS-MET-00789-000', 'BraTS-MET-00792-000', 'BraTS-MET-00820-000']\n",
      "Tsting ['BraTS-MET-00001-000', 'BraTS-MET-00002-000', 'BraTS-MET-00003-000', 'BraTS-MET-00007-000', 'BraTS-MET-00012-000', 'BraTS-MET-00015-000', 'BraTS-MET-00027-000', 'BraTS-MET-00030-000', 'BraTS-MET-00034-000', 'BraTS-MET-00037-000', 'BraTS-MET-00111-000', 'BraTS-MET-00116-000', 'BraTS-MET-00123-000', 'BraTS-MET-00126-000', 'BraTS-MET-00130-000', 'BraTS-MET-00133-000', 'BraTS-MET-00140-000', 'BraTS-MET-00141-000', 'BraTS-MET-00144-000', 'BraTS-MET-00145-000', 'BraTS-MET-00151-000', 'BraTS-MET-00154-000', 'BraTS-MET-00155-000', 'BraTS-MET-00161-000', 'BraTS-MET-00162-000', 'BraTS-MET-00165-000', 'BraTS-MET-00169-000', 'BraTS-MET-00172-000', 'BraTS-MET-00189-000', 'BraTS-MET-00190-000', 'BraTS-MET-00193-000', 'BraTS-MET-00199-000', 'BraTS-MET-00207-000', 'BraTS-MET-00212-000', 'BraTS-MET-00216-000', 'BraTS-MET-00219-000', 'BraTS-MET-00221-000', 'BraTS-MET-00223-000', 'BraTS-MET-00225-000', 'BraTS-MET-00226-000', 'BraTS-MET-00237-000', 'BraTS-MET-00241-000', 'BraTS-MET-00251-000', 'BraTS-MET-00253-000', 'BraTS-MET-00255-000', 'BraTS-MET-00264-000', 'BraTS-MET-00269-000', 'BraTS-MET-00271-000', 'BraTS-MET-00274-000', 'BraTS-MET-00284-000', 'BraTS-MET-00289-000', 'BraTS-MET-00305-000', 'BraTS-MET-00378-000', 'BraTS-MET-00380-000', 'BraTS-MET-00381-000', 'BraTS-MET-00407-000', 'BraTS-MET-00537-000', 'BraTS-MET-00541-000', 'BraTS-MET-00546-000', 'BraTS-MET-00548-000', 'BraTS-MET-00781-000', 'BraTS-MET-00786-000', 'BraTS-MET-00799-000', 'BraTS-MET-00802-000', 'BraTS-MET-00805-000', 'BraTS-MET-00813-000', 'BraTS-MET-00816-000']\n",
      "Number of training samples 229\n",
      "Number of validation samples 32\n",
      "Number of testing samples 67\n"
     ]
    }
   ],
   "source": [
    "args = {\n",
    "    'workers': 2,\n",
    "    'epochs': 25,\n",
    "    'train_batch_size': 2,\n",
    "    'val_batch_size': 2,\n",
    "    'test_batch_size': 3,\n",
    "    'learning_rate': 1e-3,\n",
    "    'weight_decay': 1e-5,\n",
    "    'data_dir': '/kaggle/input/bratsmet24',\n",
    "    'in_checkpoint_dir': Path('/kaggle/input/gliomateachernormalizednew/'),\n",
    "    'out_checkpoint_dir': Path('/kaggle/working/')\n",
    "}\n",
    "trainLoader, valLoader, testLoader = prepare_data_loaders(args)"
   ]
  }
 ],
 "metadata": {
  "kaggle": {
   "accelerator": "none",
   "dataSources": [
    {
     "datasetId": 5906271,
     "sourceId": 9666149,
     "sourceType": "datasetVersion"
    },
    {
     "datasetId": 5929819,
     "sourceId": 9697878,
     "sourceType": "datasetVersion"
    },
    {
     "datasetId": 5984455,
     "sourceId": 9770532,
     "sourceType": "datasetVersion"
    },
    {
     "datasetId": 6060139,
     "sourceId": 9871878,
     "sourceType": "datasetVersion"
    },
    {
     "datasetId": 6222947,
     "sourceId": 10102734,
     "sourceType": "datasetVersion"
    },
    {
     "datasetId": 6329313,
     "sourceId": 10235842,
     "sourceType": "datasetVersion"
    }
   ],
   "dockerImageVersionId": 30787,
   "isGpuEnabled": false,
   "isInternetEnabled": true,
   "language": "python",
   "sourceType": "notebook"
  },
  "kernelspec": {
   "display_name": "Python 3",
   "language": "python",
   "name": "python3"
  },
  "language_info": {
   "codemirror_mode": {
    "name": "ipython",
    "version": 3
   },
   "file_extension": ".py",
   "mimetype": "text/x-python",
   "name": "python",
   "nbconvert_exporter": "python",
   "pygments_lexer": "ipython3",
   "version": "3.10.14"
  },
  "papermill": {
   "default_parameters": {},
   "duration": 76.914187,
   "end_time": "2025-03-24T11:11:34.483245",
   "environment_variables": {},
   "exception": null,
   "input_path": "__notebook__.ipynb",
   "output_path": "__notebook__.ipynb",
   "parameters": {},
   "start_time": "2025-03-24T11:10:17.569058",
   "version": "2.6.0"
  }
 },
 "nbformat": 4,
 "nbformat_minor": 5
}
